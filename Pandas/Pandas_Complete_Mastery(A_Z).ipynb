{
  "nbformat": 4,
  "nbformat_minor": 0,
  "metadata": {
    "kernelspec": {
      "display_name": "Python 3",
      "language": "python",
      "name": "python3"
    },
    "language_info": {
      "codemirror_mode": {
        "name": "ipython",
        "version": 3
      },
      "file_extension": ".py",
      "mimetype": "text/x-python",
      "name": "python",
      "nbconvert_exporter": "python",
      "pygments_lexer": "ipython3",
      "version": "3.6.5"
    },
    "colab": {
      "name": "Pandas Complete Mastery(A-Z).ipynb",
      "provenance": [],
      "collapsed_sections": [],
      "include_colab_link": true
    }
  },
  "cells": [
    {
      "cell_type": "markdown",
      "metadata": {
        "id": "view-in-github",
        "colab_type": "text"
      },
      "source": [
        "<a href=\"https://colab.research.google.com/github/psssnikhil/medium/blob/master/Pandas/Pandas_Complete_Mastery(A_Z).ipynb\" target=\"_parent\"><img src=\"https://colab.research.google.com/assets/colab-badge.svg\" alt=\"Open In Colab\"/></a>"
      ]
    },
    {
      "cell_type": "markdown",
      "metadata": {
        "id": "mG2DXN5vESO8",
        "colab_type": "text"
      },
      "source": [
        ""
      ]
    },
    {
      "cell_type": "code",
      "metadata": {
        "id": "uf0LcLJWDFQD",
        "colab_type": "code",
        "colab": {}
      },
      "source": [
        "import pandas as pd\n",
        "import numpy as np\n",
        "df=pd.read_csv('Automobile_data.csv')\n",
        "#if file format is xlsx use pd.read_excel"
      ],
      "execution_count": 0,
      "outputs": []
    },
    {
      "cell_type": "code",
      "metadata": {
        "scrolled": false,
        "id": "7dC2xr0jDFQQ",
        "colab_type": "code",
        "outputId": "a32935f8-a6c5-4b40-ef6a-4347c604a7a6",
        "colab": {
          "base_uri": "https://localhost:8080/",
          "height": 359
        }
      },
      "source": [
        "#df.head()\n",
        "df.head(10)"
      ],
      "execution_count": 2,
      "outputs": [
        {
          "output_type": "execute_result",
          "data": {
            "text/html": [
              "<div>\n",
              "<style scoped>\n",
              "    .dataframe tbody tr th:only-of-type {\n",
              "        vertical-align: middle;\n",
              "    }\n",
              "\n",
              "    .dataframe tbody tr th {\n",
              "        vertical-align: top;\n",
              "    }\n",
              "\n",
              "    .dataframe thead th {\n",
              "        text-align: right;\n",
              "    }\n",
              "</style>\n",
              "<table border=\"1\" class=\"dataframe\">\n",
              "  <thead>\n",
              "    <tr style=\"text-align: right;\">\n",
              "      <th></th>\n",
              "      <th>index</th>\n",
              "      <th>company</th>\n",
              "      <th>body-style</th>\n",
              "      <th>wheel-base</th>\n",
              "      <th>length</th>\n",
              "      <th>engine-type</th>\n",
              "      <th>num-of-cylinders</th>\n",
              "      <th>horsepower</th>\n",
              "      <th>average-mileage</th>\n",
              "      <th>price</th>\n",
              "    </tr>\n",
              "  </thead>\n",
              "  <tbody>\n",
              "    <tr>\n",
              "      <th>0</th>\n",
              "      <td>0</td>\n",
              "      <td>alfa-romero</td>\n",
              "      <td>convertible</td>\n",
              "      <td>88.6</td>\n",
              "      <td>168.8</td>\n",
              "      <td>dohc</td>\n",
              "      <td>four</td>\n",
              "      <td>111</td>\n",
              "      <td>21</td>\n",
              "      <td>13495.0</td>\n",
              "    </tr>\n",
              "    <tr>\n",
              "      <th>1</th>\n",
              "      <td>1</td>\n",
              "      <td>alfa-romero</td>\n",
              "      <td>convertible</td>\n",
              "      <td>88.6</td>\n",
              "      <td>168.8</td>\n",
              "      <td>dohc</td>\n",
              "      <td>four</td>\n",
              "      <td>111</td>\n",
              "      <td>21</td>\n",
              "      <td>16500.0</td>\n",
              "    </tr>\n",
              "    <tr>\n",
              "      <th>2</th>\n",
              "      <td>2</td>\n",
              "      <td>alfa-romero</td>\n",
              "      <td>hatchback</td>\n",
              "      <td>94.5</td>\n",
              "      <td>171.2</td>\n",
              "      <td>ohcv</td>\n",
              "      <td>six</td>\n",
              "      <td>154</td>\n",
              "      <td>19</td>\n",
              "      <td>16500.0</td>\n",
              "    </tr>\n",
              "    <tr>\n",
              "      <th>3</th>\n",
              "      <td>3</td>\n",
              "      <td>audi</td>\n",
              "      <td>sedan</td>\n",
              "      <td>99.8</td>\n",
              "      <td>176.6</td>\n",
              "      <td>ohc</td>\n",
              "      <td>four</td>\n",
              "      <td>102</td>\n",
              "      <td>24</td>\n",
              "      <td>13950.0</td>\n",
              "    </tr>\n",
              "    <tr>\n",
              "      <th>4</th>\n",
              "      <td>4</td>\n",
              "      <td>audi</td>\n",
              "      <td>sedan</td>\n",
              "      <td>99.4</td>\n",
              "      <td>176.6</td>\n",
              "      <td>ohc</td>\n",
              "      <td>five</td>\n",
              "      <td>115</td>\n",
              "      <td>18</td>\n",
              "      <td>17450.0</td>\n",
              "    </tr>\n",
              "    <tr>\n",
              "      <th>5</th>\n",
              "      <td>5</td>\n",
              "      <td>audi</td>\n",
              "      <td>sedan</td>\n",
              "      <td>99.8</td>\n",
              "      <td>177.3</td>\n",
              "      <td>ohc</td>\n",
              "      <td>five</td>\n",
              "      <td>110</td>\n",
              "      <td>19</td>\n",
              "      <td>15250.0</td>\n",
              "    </tr>\n",
              "    <tr>\n",
              "      <th>6</th>\n",
              "      <td>6</td>\n",
              "      <td>audi</td>\n",
              "      <td>wagon</td>\n",
              "      <td>105.8</td>\n",
              "      <td>192.7</td>\n",
              "      <td>ohc</td>\n",
              "      <td>five</td>\n",
              "      <td>110</td>\n",
              "      <td>19</td>\n",
              "      <td>18920.0</td>\n",
              "    </tr>\n",
              "    <tr>\n",
              "      <th>7</th>\n",
              "      <td>9</td>\n",
              "      <td>bmw</td>\n",
              "      <td>sedan</td>\n",
              "      <td>101.2</td>\n",
              "      <td>176.8</td>\n",
              "      <td>ohc</td>\n",
              "      <td>four</td>\n",
              "      <td>101</td>\n",
              "      <td>23</td>\n",
              "      <td>16430.0</td>\n",
              "    </tr>\n",
              "    <tr>\n",
              "      <th>8</th>\n",
              "      <td>10</td>\n",
              "      <td>bmw</td>\n",
              "      <td>sedan</td>\n",
              "      <td>101.2</td>\n",
              "      <td>176.8</td>\n",
              "      <td>ohc</td>\n",
              "      <td>four</td>\n",
              "      <td>101</td>\n",
              "      <td>23</td>\n",
              "      <td>16925.0</td>\n",
              "    </tr>\n",
              "    <tr>\n",
              "      <th>9</th>\n",
              "      <td>11</td>\n",
              "      <td>bmw</td>\n",
              "      <td>sedan</td>\n",
              "      <td>101.2</td>\n",
              "      <td>176.8</td>\n",
              "      <td>ohc</td>\n",
              "      <td>six</td>\n",
              "      <td>121</td>\n",
              "      <td>21</td>\n",
              "      <td>20970.0</td>\n",
              "    </tr>\n",
              "  </tbody>\n",
              "</table>\n",
              "</div>"
            ],
            "text/plain": [
              "   index      company   body-style  ...  horsepower  average-mileage    price\n",
              "0      0  alfa-romero  convertible  ...         111               21  13495.0\n",
              "1      1  alfa-romero  convertible  ...         111               21  16500.0\n",
              "2      2  alfa-romero    hatchback  ...         154               19  16500.0\n",
              "3      3         audi        sedan  ...         102               24  13950.0\n",
              "4      4         audi        sedan  ...         115               18  17450.0\n",
              "5      5         audi        sedan  ...         110               19  15250.0\n",
              "6      6         audi        wagon  ...         110               19  18920.0\n",
              "7      9          bmw        sedan  ...         101               23  16430.0\n",
              "8     10          bmw        sedan  ...         101               23  16925.0\n",
              "9     11          bmw        sedan  ...         121               21  20970.0\n",
              "\n",
              "[10 rows x 10 columns]"
            ]
          },
          "metadata": {
            "tags": []
          },
          "execution_count": 2
        }
      ]
    },
    {
      "cell_type": "code",
      "metadata": {
        "id": "K2UoYir_DFQb",
        "colab_type": "code",
        "outputId": "c3b996d6-ddb4-4b45-c885-da0192bf7513",
        "colab": {
          "base_uri": "https://localhost:8080/",
          "height": 204
        }
      },
      "source": [
        "df.tail()   #gives the last 5 rows by default\""
      ],
      "execution_count": 3,
      "outputs": [
        {
          "output_type": "execute_result",
          "data": {
            "text/html": [
              "<div>\n",
              "<style scoped>\n",
              "    .dataframe tbody tr th:only-of-type {\n",
              "        vertical-align: middle;\n",
              "    }\n",
              "\n",
              "    .dataframe tbody tr th {\n",
              "        vertical-align: top;\n",
              "    }\n",
              "\n",
              "    .dataframe thead th {\n",
              "        text-align: right;\n",
              "    }\n",
              "</style>\n",
              "<table border=\"1\" class=\"dataframe\">\n",
              "  <thead>\n",
              "    <tr style=\"text-align: right;\">\n",
              "      <th></th>\n",
              "      <th>index</th>\n",
              "      <th>company</th>\n",
              "      <th>body-style</th>\n",
              "      <th>wheel-base</th>\n",
              "      <th>length</th>\n",
              "      <th>engine-type</th>\n",
              "      <th>num-of-cylinders</th>\n",
              "      <th>horsepower</th>\n",
              "      <th>average-mileage</th>\n",
              "      <th>price</th>\n",
              "    </tr>\n",
              "  </thead>\n",
              "  <tbody>\n",
              "    <tr>\n",
              "      <th>56</th>\n",
              "      <td>81</td>\n",
              "      <td>volkswagen</td>\n",
              "      <td>sedan</td>\n",
              "      <td>97.3</td>\n",
              "      <td>171.7</td>\n",
              "      <td>ohc</td>\n",
              "      <td>four</td>\n",
              "      <td>85</td>\n",
              "      <td>27</td>\n",
              "      <td>7975.0</td>\n",
              "    </tr>\n",
              "    <tr>\n",
              "      <th>57</th>\n",
              "      <td>82</td>\n",
              "      <td>volkswagen</td>\n",
              "      <td>sedan</td>\n",
              "      <td>97.3</td>\n",
              "      <td>171.7</td>\n",
              "      <td>ohc</td>\n",
              "      <td>four</td>\n",
              "      <td>52</td>\n",
              "      <td>37</td>\n",
              "      <td>7995.0</td>\n",
              "    </tr>\n",
              "    <tr>\n",
              "      <th>58</th>\n",
              "      <td>86</td>\n",
              "      <td>volkswagen</td>\n",
              "      <td>sedan</td>\n",
              "      <td>97.3</td>\n",
              "      <td>171.7</td>\n",
              "      <td>ohc</td>\n",
              "      <td>four</td>\n",
              "      <td>100</td>\n",
              "      <td>26</td>\n",
              "      <td>9995.0</td>\n",
              "    </tr>\n",
              "    <tr>\n",
              "      <th>59</th>\n",
              "      <td>87</td>\n",
              "      <td>volvo</td>\n",
              "      <td>sedan</td>\n",
              "      <td>104.3</td>\n",
              "      <td>188.8</td>\n",
              "      <td>ohc</td>\n",
              "      <td>four</td>\n",
              "      <td>114</td>\n",
              "      <td>23</td>\n",
              "      <td>12940.0</td>\n",
              "    </tr>\n",
              "    <tr>\n",
              "      <th>60</th>\n",
              "      <td>88</td>\n",
              "      <td>volvo</td>\n",
              "      <td>wagon</td>\n",
              "      <td>104.3</td>\n",
              "      <td>188.8</td>\n",
              "      <td>ohc</td>\n",
              "      <td>four</td>\n",
              "      <td>114</td>\n",
              "      <td>23</td>\n",
              "      <td>13415.0</td>\n",
              "    </tr>\n",
              "  </tbody>\n",
              "</table>\n",
              "</div>"
            ],
            "text/plain": [
              "    index     company body-style  ...  horsepower  average-mileage    price\n",
              "56     81  volkswagen      sedan  ...          85               27   7975.0\n",
              "57     82  volkswagen      sedan  ...          52               37   7995.0\n",
              "58     86  volkswagen      sedan  ...         100               26   9995.0\n",
              "59     87       volvo      sedan  ...         114               23  12940.0\n",
              "60     88       volvo      wagon  ...         114               23  13415.0\n",
              "\n",
              "[5 rows x 10 columns]"
            ]
          },
          "metadata": {
            "tags": []
          },
          "execution_count": 3
        }
      ]
    },
    {
      "cell_type": "markdown",
      "metadata": {
        "id": "scmol21mDFQf",
        "colab_type": "raw"
      },
      "source": [
        "If dataframe has data which is doesnt contain columns names or if they are separated using a separator like '|' or ',' the pandas can able to handle such cases. "
      ]
    },
    {
      "cell_type": "code",
      "metadata": {
        "id": "bLzzulQ3DFQg",
        "colab_type": "code",
        "colab": {}
      },
      "source": [
        "df2=pd.read_csv('Automobile_data_without_col.csv',sep=\"|\",names=['company','body-style','wheel-base'])"
      ],
      "execution_count": 0,
      "outputs": []
    },
    {
      "cell_type": "code",
      "metadata": {
        "scrolled": true,
        "id": "K011PG63DFQ8",
        "colab_type": "code",
        "outputId": "1adae1f9-e669-4044-b9ba-a529729585d9",
        "colab": {
          "base_uri": "https://localhost:8080/",
          "height": 204
        }
      },
      "source": [
        "df2.tail()"
      ],
      "execution_count": 5,
      "outputs": [
        {
          "output_type": "execute_result",
          "data": {
            "text/html": [
              "<div>\n",
              "<style scoped>\n",
              "    .dataframe tbody tr th:only-of-type {\n",
              "        vertical-align: middle;\n",
              "    }\n",
              "\n",
              "    .dataframe tbody tr th {\n",
              "        vertical-align: top;\n",
              "    }\n",
              "\n",
              "    .dataframe thead th {\n",
              "        text-align: right;\n",
              "    }\n",
              "</style>\n",
              "<table border=\"1\" class=\"dataframe\">\n",
              "  <thead>\n",
              "    <tr style=\"text-align: right;\">\n",
              "      <th></th>\n",
              "      <th>company</th>\n",
              "      <th>body-style</th>\n",
              "      <th>wheel-base</th>\n",
              "    </tr>\n",
              "  </thead>\n",
              "  <tbody>\n",
              "    <tr>\n",
              "      <th>1</th>\n",
              "      <td>audi</td>\n",
              "      <td>sedan</td>\n",
              "      <td>99.8</td>\n",
              "    </tr>\n",
              "    <tr>\n",
              "      <th>2</th>\n",
              "      <td>audi</td>\n",
              "      <td>convertible</td>\n",
              "      <td>99.4</td>\n",
              "    </tr>\n",
              "    <tr>\n",
              "      <th>3</th>\n",
              "      <td>audi</td>\n",
              "      <td>sedan</td>\n",
              "      <td>99.8</td>\n",
              "    </tr>\n",
              "    <tr>\n",
              "      <th>4</th>\n",
              "      <td>audi</td>\n",
              "      <td>wagon</td>\n",
              "      <td>105.8</td>\n",
              "    </tr>\n",
              "    <tr>\n",
              "      <th>5</th>\n",
              "      <td>bmw</td>\n",
              "      <td>sedan</td>\n",
              "      <td>101.2</td>\n",
              "    </tr>\n",
              "  </tbody>\n",
              "</table>\n",
              "</div>"
            ],
            "text/plain": [
              "  company   body-style  wheel-base\n",
              "1    audi        sedan        99.8\n",
              "2    audi  convertible        99.4\n",
              "3    audi        sedan        99.8\n",
              "4    audi        wagon       105.8\n",
              "5     bmw        sedan       101.2"
            ]
          },
          "metadata": {
            "tags": []
          },
          "execution_count": 5
        }
      ]
    },
    {
      "cell_type": "code",
      "metadata": {
        "id": "R-UheSNZDFRB",
        "colab_type": "code",
        "outputId": "b58479c3-cc3e-4a26-8343-b74f33d4e0a6",
        "colab": {
          "base_uri": "https://localhost:8080/",
          "height": 68
        }
      },
      "source": [
        "df.columns"
      ],
      "execution_count": 6,
      "outputs": [
        {
          "output_type": "execute_result",
          "data": {
            "text/plain": [
              "Index(['index', 'company', 'body-style', 'wheel-base', 'length', 'engine-type',\n",
              "       'num-of-cylinders', 'horsepower', 'average-mileage', 'price'],\n",
              "      dtype='object')"
            ]
          },
          "metadata": {
            "tags": []
          },
          "execution_count": 6
        }
      ]
    },
    {
      "cell_type": "code",
      "metadata": {
        "scrolled": false,
        "id": "mvuqUVCLDFRF",
        "colab_type": "code",
        "outputId": "ca27b96a-cfe9-4085-947c-da5db1b6b090",
        "colab": {
          "base_uri": "https://localhost:8080/",
          "height": 306
        }
      },
      "source": [
        "df.info()"
      ],
      "execution_count": 7,
      "outputs": [
        {
          "output_type": "stream",
          "text": [
            "<class 'pandas.core.frame.DataFrame'>\n",
            "RangeIndex: 61 entries, 0 to 60\n",
            "Data columns (total 10 columns):\n",
            " #   Column            Non-Null Count  Dtype  \n",
            "---  ------            --------------  -----  \n",
            " 0   index             61 non-null     int64  \n",
            " 1   company           61 non-null     object \n",
            " 2   body-style        61 non-null     object \n",
            " 3   wheel-base        61 non-null     float64\n",
            " 4   length            61 non-null     float64\n",
            " 5   engine-type       61 non-null     object \n",
            " 6   num-of-cylinders  61 non-null     object \n",
            " 7   horsepower        61 non-null     int64  \n",
            " 8   average-mileage   61 non-null     int64  \n",
            " 9   price             58 non-null     float64\n",
            "dtypes: float64(3), int64(3), object(4)\n",
            "memory usage: 4.9+ KB\n"
          ],
          "name": "stdout"
        }
      ]
    },
    {
      "cell_type": "code",
      "metadata": {
        "id": "NPEw4FPpDFRN",
        "colab_type": "code",
        "colab": {}
      },
      "source": [
        ""
      ],
      "execution_count": 0,
      "outputs": []
    },
    {
      "cell_type": "code",
      "metadata": {
        "id": "bUucq2tJDFRU",
        "colab_type": "code",
        "outputId": "b2eeb22e-df9e-4f05-cc8f-3cf580a4e701",
        "colab": {
          "base_uri": "https://localhost:8080/",
          "height": 297
        }
      },
      "source": [
        "df.describe()"
      ],
      "execution_count": 8,
      "outputs": [
        {
          "output_type": "execute_result",
          "data": {
            "text/html": [
              "<div>\n",
              "<style scoped>\n",
              "    .dataframe tbody tr th:only-of-type {\n",
              "        vertical-align: middle;\n",
              "    }\n",
              "\n",
              "    .dataframe tbody tr th {\n",
              "        vertical-align: top;\n",
              "    }\n",
              "\n",
              "    .dataframe thead th {\n",
              "        text-align: right;\n",
              "    }\n",
              "</style>\n",
              "<table border=\"1\" class=\"dataframe\">\n",
              "  <thead>\n",
              "    <tr style=\"text-align: right;\">\n",
              "      <th></th>\n",
              "      <th>index</th>\n",
              "      <th>wheel-base</th>\n",
              "      <th>length</th>\n",
              "      <th>horsepower</th>\n",
              "      <th>average-mileage</th>\n",
              "      <th>price</th>\n",
              "    </tr>\n",
              "  </thead>\n",
              "  <tbody>\n",
              "    <tr>\n",
              "      <th>count</th>\n",
              "      <td>61.000000</td>\n",
              "      <td>61.000000</td>\n",
              "      <td>61.000000</td>\n",
              "      <td>61.000000</td>\n",
              "      <td>61.000000</td>\n",
              "      <td>58.000000</td>\n",
              "    </tr>\n",
              "    <tr>\n",
              "      <th>mean</th>\n",
              "      <td>40.885246</td>\n",
              "      <td>98.481967</td>\n",
              "      <td>173.098361</td>\n",
              "      <td>107.852459</td>\n",
              "      <td>25.803279</td>\n",
              "      <td>15387.000000</td>\n",
              "    </tr>\n",
              "    <tr>\n",
              "      <th>std</th>\n",
              "      <td>25.429706</td>\n",
              "      <td>6.679234</td>\n",
              "      <td>14.021846</td>\n",
              "      <td>53.524398</td>\n",
              "      <td>8.129821</td>\n",
              "      <td>11320.259841</td>\n",
              "    </tr>\n",
              "    <tr>\n",
              "      <th>min</th>\n",
              "      <td>0.000000</td>\n",
              "      <td>88.400000</td>\n",
              "      <td>141.100000</td>\n",
              "      <td>48.000000</td>\n",
              "      <td>13.000000</td>\n",
              "      <td>5151.000000</td>\n",
              "    </tr>\n",
              "    <tr>\n",
              "      <th>25%</th>\n",
              "      <td>18.000000</td>\n",
              "      <td>94.500000</td>\n",
              "      <td>159.100000</td>\n",
              "      <td>68.000000</td>\n",
              "      <td>19.000000</td>\n",
              "      <td>6808.500000</td>\n",
              "    </tr>\n",
              "    <tr>\n",
              "      <th>50%</th>\n",
              "      <td>39.000000</td>\n",
              "      <td>96.300000</td>\n",
              "      <td>171.200000</td>\n",
              "      <td>100.000000</td>\n",
              "      <td>25.000000</td>\n",
              "      <td>11095.000000</td>\n",
              "    </tr>\n",
              "    <tr>\n",
              "      <th>75%</th>\n",
              "      <td>61.000000</td>\n",
              "      <td>101.200000</td>\n",
              "      <td>177.300000</td>\n",
              "      <td>123.000000</td>\n",
              "      <td>31.000000</td>\n",
              "      <td>18120.500000</td>\n",
              "    </tr>\n",
              "    <tr>\n",
              "      <th>max</th>\n",
              "      <td>88.000000</td>\n",
              "      <td>120.900000</td>\n",
              "      <td>208.100000</td>\n",
              "      <td>288.000000</td>\n",
              "      <td>47.000000</td>\n",
              "      <td>45400.000000</td>\n",
              "    </tr>\n",
              "  </tbody>\n",
              "</table>\n",
              "</div>"
            ],
            "text/plain": [
              "           index  wheel-base  ...  average-mileage         price\n",
              "count  61.000000   61.000000  ...        61.000000     58.000000\n",
              "mean   40.885246   98.481967  ...        25.803279  15387.000000\n",
              "std    25.429706    6.679234  ...         8.129821  11320.259841\n",
              "min     0.000000   88.400000  ...        13.000000   5151.000000\n",
              "25%    18.000000   94.500000  ...        19.000000   6808.500000\n",
              "50%    39.000000   96.300000  ...        25.000000  11095.000000\n",
              "75%    61.000000  101.200000  ...        31.000000  18120.500000\n",
              "max    88.000000  120.900000  ...        47.000000  45400.000000\n",
              "\n",
              "[8 rows x 6 columns]"
            ]
          },
          "metadata": {
            "tags": []
          },
          "execution_count": 8
        }
      ]
    },
    {
      "cell_type": "code",
      "metadata": {
        "id": "7PnunpBSDFRZ",
        "colab_type": "code",
        "colab": {}
      },
      "source": [
        "##part 2 "
      ],
      "execution_count": 0,
      "outputs": []
    },
    {
      "cell_type": "code",
      "metadata": {
        "id": "D4stQugWDFRc",
        "colab_type": "code",
        "outputId": "cc6d8f1a-0805-41c8-b0d9-86cf127b9605",
        "colab": {
          "base_uri": "https://localhost:8080/",
          "height": 142
        }
      },
      "source": [
        "#slicing of Dataframe\n",
        "df[1:4]"
      ],
      "execution_count": 10,
      "outputs": [
        {
          "output_type": "execute_result",
          "data": {
            "text/html": [
              "<div>\n",
              "<style scoped>\n",
              "    .dataframe tbody tr th:only-of-type {\n",
              "        vertical-align: middle;\n",
              "    }\n",
              "\n",
              "    .dataframe tbody tr th {\n",
              "        vertical-align: top;\n",
              "    }\n",
              "\n",
              "    .dataframe thead th {\n",
              "        text-align: right;\n",
              "    }\n",
              "</style>\n",
              "<table border=\"1\" class=\"dataframe\">\n",
              "  <thead>\n",
              "    <tr style=\"text-align: right;\">\n",
              "      <th></th>\n",
              "      <th>index</th>\n",
              "      <th>company</th>\n",
              "      <th>body-style</th>\n",
              "      <th>wheel-base</th>\n",
              "      <th>length</th>\n",
              "      <th>engine-type</th>\n",
              "      <th>num-of-cylinders</th>\n",
              "      <th>horsepower</th>\n",
              "      <th>average-mileage</th>\n",
              "      <th>price</th>\n",
              "    </tr>\n",
              "  </thead>\n",
              "  <tbody>\n",
              "    <tr>\n",
              "      <th>1</th>\n",
              "      <td>1</td>\n",
              "      <td>alfa-romero</td>\n",
              "      <td>convertible</td>\n",
              "      <td>88.6</td>\n",
              "      <td>168.8</td>\n",
              "      <td>dohc</td>\n",
              "      <td>four</td>\n",
              "      <td>111</td>\n",
              "      <td>21</td>\n",
              "      <td>16500.0</td>\n",
              "    </tr>\n",
              "    <tr>\n",
              "      <th>2</th>\n",
              "      <td>2</td>\n",
              "      <td>alfa-romero</td>\n",
              "      <td>hatchback</td>\n",
              "      <td>94.5</td>\n",
              "      <td>171.2</td>\n",
              "      <td>ohcv</td>\n",
              "      <td>six</td>\n",
              "      <td>154</td>\n",
              "      <td>19</td>\n",
              "      <td>16500.0</td>\n",
              "    </tr>\n",
              "    <tr>\n",
              "      <th>3</th>\n",
              "      <td>3</td>\n",
              "      <td>audi</td>\n",
              "      <td>sedan</td>\n",
              "      <td>99.8</td>\n",
              "      <td>176.6</td>\n",
              "      <td>ohc</td>\n",
              "      <td>four</td>\n",
              "      <td>102</td>\n",
              "      <td>24</td>\n",
              "      <td>13950.0</td>\n",
              "    </tr>\n",
              "  </tbody>\n",
              "</table>\n",
              "</div>"
            ],
            "text/plain": [
              "   index      company   body-style  ...  horsepower  average-mileage    price\n",
              "1      1  alfa-romero  convertible  ...         111               21  16500.0\n",
              "2      2  alfa-romero    hatchback  ...         154               19  16500.0\n",
              "3      3         audi        sedan  ...         102               24  13950.0\n",
              "\n",
              "[3 rows x 10 columns]"
            ]
          },
          "metadata": {
            "tags": []
          },
          "execution_count": 10
        }
      ]
    },
    {
      "cell_type": "code",
      "metadata": {
        "id": "BLGpB-cSDFRi",
        "colab_type": "code",
        "outputId": "40e2325c-eeec-4757-de26-63a60c273418",
        "colab": {
          "base_uri": "https://localhost:8080/",
          "height": 204
        }
      },
      "source": [
        "#Accessing the data with the index value\n",
        "df.loc[1]"
      ],
      "execution_count": 11,
      "outputs": [
        {
          "output_type": "execute_result",
          "data": {
            "text/plain": [
              "index                         1\n",
              "company             alfa-romero\n",
              "body-style          convertible\n",
              "wheel-base                 88.6\n",
              "length                    168.8\n",
              "engine-type                dohc\n",
              "num-of-cylinders           four\n",
              "horsepower                  111\n",
              "average-mileage              21\n",
              "price                     16500\n",
              "Name: 1, dtype: object"
            ]
          },
          "metadata": {
            "tags": []
          },
          "execution_count": 11
        }
      ]
    },
    {
      "cell_type": "code",
      "metadata": {
        "id": "qsjy9QhvDFRl",
        "colab_type": "code",
        "outputId": "32f0e4f6-1dcf-49bb-fe70-1f9c2161d438",
        "colab": {
          "base_uri": "https://localhost:8080/",
          "height": 204
        }
      },
      "source": [
        "#Alternate method \n",
        "df.iloc[1]"
      ],
      "execution_count": 12,
      "outputs": [
        {
          "output_type": "execute_result",
          "data": {
            "text/plain": [
              "index                         1\n",
              "company             alfa-romero\n",
              "body-style          convertible\n",
              "wheel-base                 88.6\n",
              "length                    168.8\n",
              "engine-type                dohc\n",
              "num-of-cylinders           four\n",
              "horsepower                  111\n",
              "average-mileage              21\n",
              "price                     16500\n",
              "Name: 1, dtype: object"
            ]
          },
          "metadata": {
            "tags": []
          },
          "execution_count": 12
        }
      ]
    },
    {
      "cell_type": "code",
      "metadata": {
        "id": "AHj0W7pTDFRp",
        "colab_type": "code",
        "colab": {}
      },
      "source": [
        "##write the difference between loc and iloc."
      ],
      "execution_count": 0,
      "outputs": []
    },
    {
      "cell_type": "code",
      "metadata": {
        "id": "Mdg3uRD9DFRs",
        "colab_type": "code",
        "outputId": "48e8dea0-89a2-49b1-f3fc-55e378416b31",
        "colab": {
          "base_uri": "https://localhost:8080/",
          "height": 119
        }
      },
      "source": [
        "#accessing data in specific column\n",
        "df['company'].head()"
      ],
      "execution_count": 14,
      "outputs": [
        {
          "output_type": "execute_result",
          "data": {
            "text/plain": [
              "0    alfa-romero\n",
              "1    alfa-romero\n",
              "2    alfa-romero\n",
              "3           audi\n",
              "4           audi\n",
              "Name: company, dtype: object"
            ]
          },
          "metadata": {
            "tags": []
          },
          "execution_count": 14
        }
      ]
    },
    {
      "cell_type": "code",
      "metadata": {
        "id": "gtfFOEiADFRv",
        "colab_type": "code",
        "outputId": "b259b8c3-0309-4ca0-9588-99c4dc39f4fa",
        "colab": {
          "base_uri": "https://localhost:8080/",
          "height": 119
        }
      },
      "source": [
        "#the above can be done using iloc as shown below (slicing )\n",
        "df.iloc[0:5]['company']"
      ],
      "execution_count": 15,
      "outputs": [
        {
          "output_type": "execute_result",
          "data": {
            "text/plain": [
              "0    alfa-romero\n",
              "1    alfa-romero\n",
              "2    alfa-romero\n",
              "3           audi\n",
              "4           audi\n",
              "Name: company, dtype: object"
            ]
          },
          "metadata": {
            "tags": []
          },
          "execution_count": 15
        }
      ]
    },
    {
      "cell_type": "code",
      "metadata": {
        "id": "YqaTxK6ODFRz",
        "colab_type": "code",
        "outputId": "1c8e6c6d-bac1-4917-873d-4300d769b982",
        "colab": {
          "base_uri": "https://localhost:8080/",
          "height": 80
        }
      },
      "source": [
        "df.loc[[1],['body-style','length']]"
      ],
      "execution_count": 16,
      "outputs": [
        {
          "output_type": "execute_result",
          "data": {
            "text/html": [
              "<div>\n",
              "<style scoped>\n",
              "    .dataframe tbody tr th:only-of-type {\n",
              "        vertical-align: middle;\n",
              "    }\n",
              "\n",
              "    .dataframe tbody tr th {\n",
              "        vertical-align: top;\n",
              "    }\n",
              "\n",
              "    .dataframe thead th {\n",
              "        text-align: right;\n",
              "    }\n",
              "</style>\n",
              "<table border=\"1\" class=\"dataframe\">\n",
              "  <thead>\n",
              "    <tr style=\"text-align: right;\">\n",
              "      <th></th>\n",
              "      <th>body-style</th>\n",
              "      <th>length</th>\n",
              "    </tr>\n",
              "  </thead>\n",
              "  <tbody>\n",
              "    <tr>\n",
              "      <th>1</th>\n",
              "      <td>convertible</td>\n",
              "      <td>168.8</td>\n",
              "    </tr>\n",
              "  </tbody>\n",
              "</table>\n",
              "</div>"
            ],
            "text/plain": [
              "    body-style  length\n",
              "1  convertible   168.8"
            ]
          },
          "metadata": {
            "tags": []
          },
          "execution_count": 16
        }
      ]
    },
    {
      "cell_type": "code",
      "metadata": {
        "id": "jSox0lwbDFR3",
        "colab_type": "code",
        "colab": {}
      },
      "source": [
        "#Setting the Index to company so loc can be perfectly understood."
      ],
      "execution_count": 0,
      "outputs": []
    },
    {
      "cell_type": "code",
      "metadata": {
        "id": "Fi7at_kuDFR7",
        "colab_type": "code",
        "colab": {}
      },
      "source": [
        "df1=df.set_index('company')"
      ],
      "execution_count": 0,
      "outputs": []
    },
    {
      "cell_type": "code",
      "metadata": {
        "id": "0qY0oJCXDFSC",
        "colab_type": "code",
        "outputId": "e68295b6-665b-447d-fe92-ed0542cdc31d",
        "colab": {
          "base_uri": "https://localhost:8080/",
          "height": 204
        }
      },
      "source": [
        "df1.index.values #observe the output.there are many duplicates values .we will handle them getting only unique in the next steps."
      ],
      "execution_count": 19,
      "outputs": [
        {
          "output_type": "execute_result",
          "data": {
            "text/plain": [
              "array(['alfa-romero', 'alfa-romero', 'alfa-romero', 'audi', 'audi',\n",
              "       'audi', 'audi', 'bmw', 'bmw', 'bmw', 'bmw', 'bmw', 'bmw',\n",
              "       'chevrolet', 'chevrolet', 'chevrolet', 'dodge', 'dodge', 'honda',\n",
              "       'honda', 'honda', 'isuzu', 'isuzu', 'isuzu', 'jaguar', 'jaguar',\n",
              "       'jaguar', 'mazda', 'mazda', 'mazda', 'mazda', 'mazda',\n",
              "       'mercedes-benz', 'mercedes-benz', 'mercedes-benz', 'mercedes-benz',\n",
              "       'mitsubishi', 'mitsubishi', 'mitsubishi', 'mitsubishi', 'nissan',\n",
              "       'nissan', 'nissan', 'nissan', 'nissan', 'porsche', 'porsche',\n",
              "       'porsche', 'toyota', 'toyota', 'toyota', 'toyota', 'toyota',\n",
              "       'toyota', 'toyota', 'volkswagen', 'volkswagen', 'volkswagen',\n",
              "       'volkswagen', 'volvo', 'volvo'], dtype=object)"
            ]
          },
          "metadata": {
            "tags": []
          },
          "execution_count": 19
        }
      ]
    },
    {
      "cell_type": "code",
      "metadata": {
        "scrolled": true,
        "id": "62wRbYOtDFSH",
        "colab_type": "code",
        "outputId": "a0f46939-1428-4ae7-f75e-8f4a435864bd",
        "colab": {
          "base_uri": "https://localhost:8080/",
          "height": 235
        }
      },
      "source": [
        "df1.head()"
      ],
      "execution_count": 20,
      "outputs": [
        {
          "output_type": "execute_result",
          "data": {
            "text/html": [
              "<div>\n",
              "<style scoped>\n",
              "    .dataframe tbody tr th:only-of-type {\n",
              "        vertical-align: middle;\n",
              "    }\n",
              "\n",
              "    .dataframe tbody tr th {\n",
              "        vertical-align: top;\n",
              "    }\n",
              "\n",
              "    .dataframe thead th {\n",
              "        text-align: right;\n",
              "    }\n",
              "</style>\n",
              "<table border=\"1\" class=\"dataframe\">\n",
              "  <thead>\n",
              "    <tr style=\"text-align: right;\">\n",
              "      <th></th>\n",
              "      <th>index</th>\n",
              "      <th>body-style</th>\n",
              "      <th>wheel-base</th>\n",
              "      <th>length</th>\n",
              "      <th>engine-type</th>\n",
              "      <th>num-of-cylinders</th>\n",
              "      <th>horsepower</th>\n",
              "      <th>average-mileage</th>\n",
              "      <th>price</th>\n",
              "    </tr>\n",
              "    <tr>\n",
              "      <th>company</th>\n",
              "      <th></th>\n",
              "      <th></th>\n",
              "      <th></th>\n",
              "      <th></th>\n",
              "      <th></th>\n",
              "      <th></th>\n",
              "      <th></th>\n",
              "      <th></th>\n",
              "      <th></th>\n",
              "    </tr>\n",
              "  </thead>\n",
              "  <tbody>\n",
              "    <tr>\n",
              "      <th>alfa-romero</th>\n",
              "      <td>0</td>\n",
              "      <td>convertible</td>\n",
              "      <td>88.6</td>\n",
              "      <td>168.8</td>\n",
              "      <td>dohc</td>\n",
              "      <td>four</td>\n",
              "      <td>111</td>\n",
              "      <td>21</td>\n",
              "      <td>13495.0</td>\n",
              "    </tr>\n",
              "    <tr>\n",
              "      <th>alfa-romero</th>\n",
              "      <td>1</td>\n",
              "      <td>convertible</td>\n",
              "      <td>88.6</td>\n",
              "      <td>168.8</td>\n",
              "      <td>dohc</td>\n",
              "      <td>four</td>\n",
              "      <td>111</td>\n",
              "      <td>21</td>\n",
              "      <td>16500.0</td>\n",
              "    </tr>\n",
              "    <tr>\n",
              "      <th>alfa-romero</th>\n",
              "      <td>2</td>\n",
              "      <td>hatchback</td>\n",
              "      <td>94.5</td>\n",
              "      <td>171.2</td>\n",
              "      <td>ohcv</td>\n",
              "      <td>six</td>\n",
              "      <td>154</td>\n",
              "      <td>19</td>\n",
              "      <td>16500.0</td>\n",
              "    </tr>\n",
              "    <tr>\n",
              "      <th>audi</th>\n",
              "      <td>3</td>\n",
              "      <td>sedan</td>\n",
              "      <td>99.8</td>\n",
              "      <td>176.6</td>\n",
              "      <td>ohc</td>\n",
              "      <td>four</td>\n",
              "      <td>102</td>\n",
              "      <td>24</td>\n",
              "      <td>13950.0</td>\n",
              "    </tr>\n",
              "    <tr>\n",
              "      <th>audi</th>\n",
              "      <td>4</td>\n",
              "      <td>sedan</td>\n",
              "      <td>99.4</td>\n",
              "      <td>176.6</td>\n",
              "      <td>ohc</td>\n",
              "      <td>five</td>\n",
              "      <td>115</td>\n",
              "      <td>18</td>\n",
              "      <td>17450.0</td>\n",
              "    </tr>\n",
              "  </tbody>\n",
              "</table>\n",
              "</div>"
            ],
            "text/plain": [
              "             index   body-style  ...  average-mileage    price\n",
              "company                          ...                          \n",
              "alfa-romero      0  convertible  ...               21  13495.0\n",
              "alfa-romero      1  convertible  ...               21  16500.0\n",
              "alfa-romero      2    hatchback  ...               19  16500.0\n",
              "audi             3        sedan  ...               24  13950.0\n",
              "audi             4        sedan  ...               18  17450.0\n",
              "\n",
              "[5 rows x 9 columns]"
            ]
          },
          "metadata": {
            "tags": []
          },
          "execution_count": 20
        }
      ]
    },
    {
      "cell_type": "code",
      "metadata": {
        "id": "kDVhQ1nsDFSO",
        "colab_type": "code",
        "colab": {}
      },
      "source": [
        "#The below code represents go to row containing alfa-romero and get all the given columns data accordingly"
      ],
      "execution_count": 0,
      "outputs": []
    },
    {
      "cell_type": "code",
      "metadata": {
        "id": "ncYrG_rbDFSS",
        "colab_type": "code",
        "outputId": "861b67d1-b2c6-49e8-8760-68b70c3ae2c7",
        "colab": {
          "base_uri": "https://localhost:8080/",
          "height": 173
        }
      },
      "source": [
        "df1.loc[['alfa-romero'],['body-style','length']]"
      ],
      "execution_count": 22,
      "outputs": [
        {
          "output_type": "execute_result",
          "data": {
            "text/html": [
              "<div>\n",
              "<style scoped>\n",
              "    .dataframe tbody tr th:only-of-type {\n",
              "        vertical-align: middle;\n",
              "    }\n",
              "\n",
              "    .dataframe tbody tr th {\n",
              "        vertical-align: top;\n",
              "    }\n",
              "\n",
              "    .dataframe thead th {\n",
              "        text-align: right;\n",
              "    }\n",
              "</style>\n",
              "<table border=\"1\" class=\"dataframe\">\n",
              "  <thead>\n",
              "    <tr style=\"text-align: right;\">\n",
              "      <th></th>\n",
              "      <th>body-style</th>\n",
              "      <th>length</th>\n",
              "    </tr>\n",
              "    <tr>\n",
              "      <th>company</th>\n",
              "      <th></th>\n",
              "      <th></th>\n",
              "    </tr>\n",
              "  </thead>\n",
              "  <tbody>\n",
              "    <tr>\n",
              "      <th>alfa-romero</th>\n",
              "      <td>convertible</td>\n",
              "      <td>168.8</td>\n",
              "    </tr>\n",
              "    <tr>\n",
              "      <th>alfa-romero</th>\n",
              "      <td>convertible</td>\n",
              "      <td>168.8</td>\n",
              "    </tr>\n",
              "    <tr>\n",
              "      <th>alfa-romero</th>\n",
              "      <td>hatchback</td>\n",
              "      <td>171.2</td>\n",
              "    </tr>\n",
              "  </tbody>\n",
              "</table>\n",
              "</div>"
            ],
            "text/plain": [
              "              body-style  length\n",
              "company                         \n",
              "alfa-romero  convertible   168.8\n",
              "alfa-romero  convertible   168.8\n",
              "alfa-romero    hatchback   171.2"
            ]
          },
          "metadata": {
            "tags": []
          },
          "execution_count": 22
        }
      ]
    },
    {
      "cell_type": "code",
      "metadata": {
        "id": "yaj-Khe0DFSY",
        "colab_type": "code",
        "colab": {}
      },
      "source": [
        ""
      ],
      "execution_count": 0,
      "outputs": []
    },
    {
      "cell_type": "code",
      "metadata": {
        "id": "n-DYSU2jDFSd",
        "colab_type": "code",
        "colab": {}
      },
      "source": [
        "#part3\n"
      ],
      "execution_count": 0,
      "outputs": []
    },
    {
      "cell_type": "code",
      "metadata": {
        "id": "QULC5kVsDFSv",
        "colab_type": "code",
        "outputId": "f48282f1-ab5c-485b-9934-48b2ed22d188",
        "colab": {
          "base_uri": "https://localhost:8080/",
          "height": 68
        }
      },
      "source": [
        "cols=df.columns\n",
        "print(cols)"
      ],
      "execution_count": 23,
      "outputs": [
        {
          "output_type": "stream",
          "text": [
            "Index(['index', 'company', 'body-style', 'wheel-base', 'length', 'engine-type',\n",
            "       'num-of-cylinders', 'horsepower', 'average-mileage', 'price'],\n",
            "      dtype='object')\n"
          ],
          "name": "stdout"
        }
      ]
    },
    {
      "cell_type": "code",
      "metadata": {
        "id": "Oh07BuGxDFSz",
        "colab_type": "code",
        "outputId": "c7defd96-f657-478b-fa5e-b955a14c40d5",
        "colab": {
          "base_uri": "https://localhost:8080/",
          "height": 187
        }
      },
      "source": [
        "#print all columns names in order\n",
        "for i in cols:\n",
        "    print(i)"
      ],
      "execution_count": 24,
      "outputs": [
        {
          "output_type": "stream",
          "text": [
            "index\n",
            "company\n",
            "body-style\n",
            "wheel-base\n",
            "length\n",
            "engine-type\n",
            "num-of-cylinders\n",
            "horsepower\n",
            "average-mileage\n",
            "price\n"
          ],
          "name": "stdout"
        }
      ]
    },
    {
      "cell_type": "code",
      "metadata": {
        "scrolled": true,
        "id": "ccBDoPRxDFS2",
        "colab_type": "code",
        "outputId": "220d1897-2404-499b-88be-727864ec4e3f",
        "colab": {
          "base_uri": "https://localhost:8080/",
          "height": 204
        }
      },
      "source": [
        "#let us eliminate or drop some columns using drop method(using head just to get the top 5 rows of the dataframe)\n",
        "df.drop(['num-of-cylinders','average-mileage'],axis=1).head()\n"
      ],
      "execution_count": 25,
      "outputs": [
        {
          "output_type": "execute_result",
          "data": {
            "text/html": [
              "<div>\n",
              "<style scoped>\n",
              "    .dataframe tbody tr th:only-of-type {\n",
              "        vertical-align: middle;\n",
              "    }\n",
              "\n",
              "    .dataframe tbody tr th {\n",
              "        vertical-align: top;\n",
              "    }\n",
              "\n",
              "    .dataframe thead th {\n",
              "        text-align: right;\n",
              "    }\n",
              "</style>\n",
              "<table border=\"1\" class=\"dataframe\">\n",
              "  <thead>\n",
              "    <tr style=\"text-align: right;\">\n",
              "      <th></th>\n",
              "      <th>index</th>\n",
              "      <th>company</th>\n",
              "      <th>body-style</th>\n",
              "      <th>wheel-base</th>\n",
              "      <th>length</th>\n",
              "      <th>engine-type</th>\n",
              "      <th>horsepower</th>\n",
              "      <th>price</th>\n",
              "    </tr>\n",
              "  </thead>\n",
              "  <tbody>\n",
              "    <tr>\n",
              "      <th>0</th>\n",
              "      <td>0</td>\n",
              "      <td>alfa-romero</td>\n",
              "      <td>convertible</td>\n",
              "      <td>88.6</td>\n",
              "      <td>168.8</td>\n",
              "      <td>dohc</td>\n",
              "      <td>111</td>\n",
              "      <td>13495.0</td>\n",
              "    </tr>\n",
              "    <tr>\n",
              "      <th>1</th>\n",
              "      <td>1</td>\n",
              "      <td>alfa-romero</td>\n",
              "      <td>convertible</td>\n",
              "      <td>88.6</td>\n",
              "      <td>168.8</td>\n",
              "      <td>dohc</td>\n",
              "      <td>111</td>\n",
              "      <td>16500.0</td>\n",
              "    </tr>\n",
              "    <tr>\n",
              "      <th>2</th>\n",
              "      <td>2</td>\n",
              "      <td>alfa-romero</td>\n",
              "      <td>hatchback</td>\n",
              "      <td>94.5</td>\n",
              "      <td>171.2</td>\n",
              "      <td>ohcv</td>\n",
              "      <td>154</td>\n",
              "      <td>16500.0</td>\n",
              "    </tr>\n",
              "    <tr>\n",
              "      <th>3</th>\n",
              "      <td>3</td>\n",
              "      <td>audi</td>\n",
              "      <td>sedan</td>\n",
              "      <td>99.8</td>\n",
              "      <td>176.6</td>\n",
              "      <td>ohc</td>\n",
              "      <td>102</td>\n",
              "      <td>13950.0</td>\n",
              "    </tr>\n",
              "    <tr>\n",
              "      <th>4</th>\n",
              "      <td>4</td>\n",
              "      <td>audi</td>\n",
              "      <td>sedan</td>\n",
              "      <td>99.4</td>\n",
              "      <td>176.6</td>\n",
              "      <td>ohc</td>\n",
              "      <td>115</td>\n",
              "      <td>17450.0</td>\n",
              "    </tr>\n",
              "  </tbody>\n",
              "</table>\n",
              "</div>"
            ],
            "text/plain": [
              "   index      company   body-style  ...  engine-type  horsepower    price\n",
              "0      0  alfa-romero  convertible  ...         dohc         111  13495.0\n",
              "1      1  alfa-romero  convertible  ...         dohc         111  16500.0\n",
              "2      2  alfa-romero    hatchback  ...         ohcv         154  16500.0\n",
              "3      3         audi        sedan  ...          ohc         102  13950.0\n",
              "4      4         audi        sedan  ...          ohc         115  17450.0\n",
              "\n",
              "[5 rows x 8 columns]"
            ]
          },
          "metadata": {
            "tags": []
          },
          "execution_count": 25
        }
      ]
    },
    {
      "cell_type": "code",
      "metadata": {
        "id": "ADIjza3tDFS5",
        "colab_type": "code",
        "outputId": "144ba6a0-22ab-46fc-d4d1-3c995cd187ba",
        "colab": {
          "base_uri": "https://localhost:8080/",
          "height": 68
        }
      },
      "source": [
        "df['company'].unique()  #there you go.we got unique company names as promised above."
      ],
      "execution_count": 26,
      "outputs": [
        {
          "output_type": "execute_result",
          "data": {
            "text/plain": [
              "array(['alfa-romero', 'audi', 'bmw', 'chevrolet', 'dodge', 'honda',\n",
              "       'isuzu', 'jaguar', 'mazda', 'mercedes-benz', 'mitsubishi',\n",
              "       'nissan', 'porsche', 'toyota', 'volkswagen', 'volvo'], dtype=object)"
            ]
          },
          "metadata": {
            "tags": []
          },
          "execution_count": 26
        }
      ]
    },
    {
      "cell_type": "code",
      "metadata": {
        "id": "quou0gdQDFS9",
        "colab_type": "code",
        "outputId": "a97597cd-65b6-44a9-9754-ad1baa926817",
        "colab": {
          "base_uri": "https://localhost:8080/",
          "height": 34
        }
      },
      "source": [
        "#Gives the Number of unique values(n stands for number)\n",
        "df['company'].nunique()  "
      ],
      "execution_count": 27,
      "outputs": [
        {
          "output_type": "execute_result",
          "data": {
            "text/plain": [
              "16"
            ]
          },
          "metadata": {
            "tags": []
          },
          "execution_count": 27
        }
      ]
    },
    {
      "cell_type": "code",
      "metadata": {
        "id": "Rzb45Y2qDFTA",
        "colab_type": "code",
        "outputId": "a4829eee-21d8-4b8f-fc61-9c6825da6c32",
        "colab": {
          "base_uri": "https://localhost:8080/",
          "height": 306
        }
      },
      "source": [
        "#this gives the count of different values in single column that is taken.\n",
        "df['company'].value_counts()"
      ],
      "execution_count": 28,
      "outputs": [
        {
          "output_type": "execute_result",
          "data": {
            "text/plain": [
              "toyota           7\n",
              "bmw              6\n",
              "mazda            5\n",
              "nissan           5\n",
              "mitsubishi       4\n",
              "mercedes-benz    4\n",
              "audi             4\n",
              "volkswagen       4\n",
              "jaguar           3\n",
              "honda            3\n",
              "chevrolet        3\n",
              "isuzu            3\n",
              "alfa-romero      3\n",
              "porsche          3\n",
              "volvo            2\n",
              "dodge            2\n",
              "Name: company, dtype: int64"
            ]
          },
          "metadata": {
            "tags": []
          },
          "execution_count": 28
        }
      ]
    },
    {
      "cell_type": "code",
      "metadata": {
        "id": "NbWcINHcDFTE",
        "colab_type": "code",
        "colab": {}
      },
      "source": [
        "#concat (note:in appending rows the names of the columns in tow dataframe must be same.else it will throw an error)\n",
        "df3=df[3:8]\n",
        "new_data=pd.concat([df,df3],axis=0)"
      ],
      "execution_count": 0,
      "outputs": []
    },
    {
      "cell_type": "code",
      "metadata": {
        "id": "RL4_BZRqDFTH",
        "colab_type": "code",
        "outputId": "59235c61-b7f6-4ab7-f74d-14e90653e3ad",
        "colab": {
          "base_uri": "https://localhost:8080/",
          "height": 612
        }
      },
      "source": [
        "\n",
        "df.info()   \n",
        "print('#######')\n",
        "new_data.info()  "
      ],
      "execution_count": 30,
      "outputs": [
        {
          "output_type": "stream",
          "text": [
            "<class 'pandas.core.frame.DataFrame'>\n",
            "RangeIndex: 61 entries, 0 to 60\n",
            "Data columns (total 10 columns):\n",
            " #   Column            Non-Null Count  Dtype  \n",
            "---  ------            --------------  -----  \n",
            " 0   index             61 non-null     int64  \n",
            " 1   company           61 non-null     object \n",
            " 2   body-style        61 non-null     object \n",
            " 3   wheel-base        61 non-null     float64\n",
            " 4   length            61 non-null     float64\n",
            " 5   engine-type       61 non-null     object \n",
            " 6   num-of-cylinders  61 non-null     object \n",
            " 7   horsepower        61 non-null     int64  \n",
            " 8   average-mileage   61 non-null     int64  \n",
            " 9   price             58 non-null     float64\n",
            "dtypes: float64(3), int64(3), object(4)\n",
            "memory usage: 4.9+ KB\n",
            "#######\n",
            "<class 'pandas.core.frame.DataFrame'>\n",
            "Int64Index: 66 entries, 0 to 7\n",
            "Data columns (total 10 columns):\n",
            " #   Column            Non-Null Count  Dtype  \n",
            "---  ------            --------------  -----  \n",
            " 0   index             66 non-null     int64  \n",
            " 1   company           66 non-null     object \n",
            " 2   body-style        66 non-null     object \n",
            " 3   wheel-base        66 non-null     float64\n",
            " 4   length            66 non-null     float64\n",
            " 5   engine-type       66 non-null     object \n",
            " 6   num-of-cylinders  66 non-null     object \n",
            " 7   horsepower        66 non-null     int64  \n",
            " 8   average-mileage   66 non-null     int64  \n",
            " 9   price             63 non-null     float64\n",
            "dtypes: float64(3), int64(3), object(4)\n",
            "memory usage: 5.7+ KB\n"
          ],
          "name": "stdout"
        }
      ]
    },
    {
      "cell_type": "code",
      "metadata": {
        "scrolled": true,
        "id": "U1SBOTr7DFTK",
        "colab_type": "code",
        "outputId": "5c56b1c9-cc90-4986-ce5f-757d3b7d778f",
        "colab": {
          "base_uri": "https://localhost:8080/",
          "height": 204
        }
      },
      "source": [
        "df4=df3.rename(columns={'company':'brand'})\n",
        "df4"
      ],
      "execution_count": 31,
      "outputs": [
        {
          "output_type": "execute_result",
          "data": {
            "text/html": [
              "<div>\n",
              "<style scoped>\n",
              "    .dataframe tbody tr th:only-of-type {\n",
              "        vertical-align: middle;\n",
              "    }\n",
              "\n",
              "    .dataframe tbody tr th {\n",
              "        vertical-align: top;\n",
              "    }\n",
              "\n",
              "    .dataframe thead th {\n",
              "        text-align: right;\n",
              "    }\n",
              "</style>\n",
              "<table border=\"1\" class=\"dataframe\">\n",
              "  <thead>\n",
              "    <tr style=\"text-align: right;\">\n",
              "      <th></th>\n",
              "      <th>index</th>\n",
              "      <th>brand</th>\n",
              "      <th>body-style</th>\n",
              "      <th>wheel-base</th>\n",
              "      <th>length</th>\n",
              "      <th>engine-type</th>\n",
              "      <th>num-of-cylinders</th>\n",
              "      <th>horsepower</th>\n",
              "      <th>average-mileage</th>\n",
              "      <th>price</th>\n",
              "    </tr>\n",
              "  </thead>\n",
              "  <tbody>\n",
              "    <tr>\n",
              "      <th>3</th>\n",
              "      <td>3</td>\n",
              "      <td>audi</td>\n",
              "      <td>sedan</td>\n",
              "      <td>99.8</td>\n",
              "      <td>176.6</td>\n",
              "      <td>ohc</td>\n",
              "      <td>four</td>\n",
              "      <td>102</td>\n",
              "      <td>24</td>\n",
              "      <td>13950.0</td>\n",
              "    </tr>\n",
              "    <tr>\n",
              "      <th>4</th>\n",
              "      <td>4</td>\n",
              "      <td>audi</td>\n",
              "      <td>sedan</td>\n",
              "      <td>99.4</td>\n",
              "      <td>176.6</td>\n",
              "      <td>ohc</td>\n",
              "      <td>five</td>\n",
              "      <td>115</td>\n",
              "      <td>18</td>\n",
              "      <td>17450.0</td>\n",
              "    </tr>\n",
              "    <tr>\n",
              "      <th>5</th>\n",
              "      <td>5</td>\n",
              "      <td>audi</td>\n",
              "      <td>sedan</td>\n",
              "      <td>99.8</td>\n",
              "      <td>177.3</td>\n",
              "      <td>ohc</td>\n",
              "      <td>five</td>\n",
              "      <td>110</td>\n",
              "      <td>19</td>\n",
              "      <td>15250.0</td>\n",
              "    </tr>\n",
              "    <tr>\n",
              "      <th>6</th>\n",
              "      <td>6</td>\n",
              "      <td>audi</td>\n",
              "      <td>wagon</td>\n",
              "      <td>105.8</td>\n",
              "      <td>192.7</td>\n",
              "      <td>ohc</td>\n",
              "      <td>five</td>\n",
              "      <td>110</td>\n",
              "      <td>19</td>\n",
              "      <td>18920.0</td>\n",
              "    </tr>\n",
              "    <tr>\n",
              "      <th>7</th>\n",
              "      <td>9</td>\n",
              "      <td>bmw</td>\n",
              "      <td>sedan</td>\n",
              "      <td>101.2</td>\n",
              "      <td>176.8</td>\n",
              "      <td>ohc</td>\n",
              "      <td>four</td>\n",
              "      <td>101</td>\n",
              "      <td>23</td>\n",
              "      <td>16430.0</td>\n",
              "    </tr>\n",
              "  </tbody>\n",
              "</table>\n",
              "</div>"
            ],
            "text/plain": [
              "   index brand body-style  ...  horsepower  average-mileage    price\n",
              "3      3  audi      sedan  ...         102               24  13950.0\n",
              "4      4  audi      sedan  ...         115               18  17450.0\n",
              "5      5  audi      sedan  ...         110               19  15250.0\n",
              "6      6  audi      wagon  ...         110               19  18920.0\n",
              "7      9   bmw      sedan  ...         101               23  16430.0\n",
              "\n",
              "[5 rows x 10 columns]"
            ]
          },
          "metadata": {
            "tags": []
          },
          "execution_count": 31
        }
      ]
    },
    {
      "cell_type": "code",
      "metadata": {
        "id": "IQUSF5H3DFTN",
        "colab_type": "code",
        "colab": {}
      },
      "source": [
        "merged_df=df.merge(df4, how='left',left_on='company', right_on='brand')"
      ],
      "execution_count": 0,
      "outputs": []
    },
    {
      "cell_type": "code",
      "metadata": {
        "scrolled": true,
        "id": "rbrDUuFADFTT",
        "colab_type": "code",
        "outputId": "050a01ff-91e5-4d07-dda1-c9d882b8322a",
        "colab": {
          "base_uri": "https://localhost:8080/",
          "height": 292
        }
      },
      "source": [
        "merged_df.head()   #merged the dataframe on company and brand on the left(which takes keys from left dataframe ie df)\n",
        "                    #_x and _y are attached as the names are same in both dataframes"
      ],
      "execution_count": 33,
      "outputs": [
        {
          "output_type": "execute_result",
          "data": {
            "text/html": [
              "<div>\n",
              "<style scoped>\n",
              "    .dataframe tbody tr th:only-of-type {\n",
              "        vertical-align: middle;\n",
              "    }\n",
              "\n",
              "    .dataframe tbody tr th {\n",
              "        vertical-align: top;\n",
              "    }\n",
              "\n",
              "    .dataframe thead th {\n",
              "        text-align: right;\n",
              "    }\n",
              "</style>\n",
              "<table border=\"1\" class=\"dataframe\">\n",
              "  <thead>\n",
              "    <tr style=\"text-align: right;\">\n",
              "      <th></th>\n",
              "      <th>index_x</th>\n",
              "      <th>company</th>\n",
              "      <th>body-style_x</th>\n",
              "      <th>wheel-base_x</th>\n",
              "      <th>length_x</th>\n",
              "      <th>engine-type_x</th>\n",
              "      <th>num-of-cylinders_x</th>\n",
              "      <th>horsepower_x</th>\n",
              "      <th>average-mileage_x</th>\n",
              "      <th>price_x</th>\n",
              "      <th>index_y</th>\n",
              "      <th>brand</th>\n",
              "      <th>body-style_y</th>\n",
              "      <th>wheel-base_y</th>\n",
              "      <th>length_y</th>\n",
              "      <th>engine-type_y</th>\n",
              "      <th>num-of-cylinders_y</th>\n",
              "      <th>horsepower_y</th>\n",
              "      <th>average-mileage_y</th>\n",
              "      <th>price_y</th>\n",
              "    </tr>\n",
              "  </thead>\n",
              "  <tbody>\n",
              "    <tr>\n",
              "      <th>0</th>\n",
              "      <td>0</td>\n",
              "      <td>alfa-romero</td>\n",
              "      <td>convertible</td>\n",
              "      <td>88.6</td>\n",
              "      <td>168.8</td>\n",
              "      <td>dohc</td>\n",
              "      <td>four</td>\n",
              "      <td>111</td>\n",
              "      <td>21</td>\n",
              "      <td>13495.0</td>\n",
              "      <td>NaN</td>\n",
              "      <td>NaN</td>\n",
              "      <td>NaN</td>\n",
              "      <td>NaN</td>\n",
              "      <td>NaN</td>\n",
              "      <td>NaN</td>\n",
              "      <td>NaN</td>\n",
              "      <td>NaN</td>\n",
              "      <td>NaN</td>\n",
              "      <td>NaN</td>\n",
              "    </tr>\n",
              "    <tr>\n",
              "      <th>1</th>\n",
              "      <td>1</td>\n",
              "      <td>alfa-romero</td>\n",
              "      <td>convertible</td>\n",
              "      <td>88.6</td>\n",
              "      <td>168.8</td>\n",
              "      <td>dohc</td>\n",
              "      <td>four</td>\n",
              "      <td>111</td>\n",
              "      <td>21</td>\n",
              "      <td>16500.0</td>\n",
              "      <td>NaN</td>\n",
              "      <td>NaN</td>\n",
              "      <td>NaN</td>\n",
              "      <td>NaN</td>\n",
              "      <td>NaN</td>\n",
              "      <td>NaN</td>\n",
              "      <td>NaN</td>\n",
              "      <td>NaN</td>\n",
              "      <td>NaN</td>\n",
              "      <td>NaN</td>\n",
              "    </tr>\n",
              "    <tr>\n",
              "      <th>2</th>\n",
              "      <td>2</td>\n",
              "      <td>alfa-romero</td>\n",
              "      <td>hatchback</td>\n",
              "      <td>94.5</td>\n",
              "      <td>171.2</td>\n",
              "      <td>ohcv</td>\n",
              "      <td>six</td>\n",
              "      <td>154</td>\n",
              "      <td>19</td>\n",
              "      <td>16500.0</td>\n",
              "      <td>NaN</td>\n",
              "      <td>NaN</td>\n",
              "      <td>NaN</td>\n",
              "      <td>NaN</td>\n",
              "      <td>NaN</td>\n",
              "      <td>NaN</td>\n",
              "      <td>NaN</td>\n",
              "      <td>NaN</td>\n",
              "      <td>NaN</td>\n",
              "      <td>NaN</td>\n",
              "    </tr>\n",
              "    <tr>\n",
              "      <th>3</th>\n",
              "      <td>3</td>\n",
              "      <td>audi</td>\n",
              "      <td>sedan</td>\n",
              "      <td>99.8</td>\n",
              "      <td>176.6</td>\n",
              "      <td>ohc</td>\n",
              "      <td>four</td>\n",
              "      <td>102</td>\n",
              "      <td>24</td>\n",
              "      <td>13950.0</td>\n",
              "      <td>3.0</td>\n",
              "      <td>audi</td>\n",
              "      <td>sedan</td>\n",
              "      <td>99.8</td>\n",
              "      <td>176.6</td>\n",
              "      <td>ohc</td>\n",
              "      <td>four</td>\n",
              "      <td>102.0</td>\n",
              "      <td>24.0</td>\n",
              "      <td>13950.0</td>\n",
              "    </tr>\n",
              "    <tr>\n",
              "      <th>4</th>\n",
              "      <td>3</td>\n",
              "      <td>audi</td>\n",
              "      <td>sedan</td>\n",
              "      <td>99.8</td>\n",
              "      <td>176.6</td>\n",
              "      <td>ohc</td>\n",
              "      <td>four</td>\n",
              "      <td>102</td>\n",
              "      <td>24</td>\n",
              "      <td>13950.0</td>\n",
              "      <td>4.0</td>\n",
              "      <td>audi</td>\n",
              "      <td>sedan</td>\n",
              "      <td>99.4</td>\n",
              "      <td>176.6</td>\n",
              "      <td>ohc</td>\n",
              "      <td>five</td>\n",
              "      <td>115.0</td>\n",
              "      <td>18.0</td>\n",
              "      <td>17450.0</td>\n",
              "    </tr>\n",
              "  </tbody>\n",
              "</table>\n",
              "</div>"
            ],
            "text/plain": [
              "   index_x      company body-style_x  ...  horsepower_y  average-mileage_y  price_y\n",
              "0        0  alfa-romero  convertible  ...           NaN                NaN      NaN\n",
              "1        1  alfa-romero  convertible  ...           NaN                NaN      NaN\n",
              "2        2  alfa-romero    hatchback  ...           NaN                NaN      NaN\n",
              "3        3         audi        sedan  ...         102.0               24.0  13950.0\n",
              "4        3         audi        sedan  ...         115.0               18.0  17450.0\n",
              "\n",
              "[5 rows x 20 columns]"
            ]
          },
          "metadata": {
            "tags": []
          },
          "execution_count": 33
        }
      ]
    },
    {
      "cell_type": "code",
      "metadata": {
        "id": "_0yEzmJ4DFTW",
        "colab_type": "code",
        "colab": {}
      },
      "source": [
        "df_joined=df.join(df2,how='left',lsuffix='--x',rsuffix='--y')"
      ],
      "execution_count": 0,
      "outputs": []
    },
    {
      "cell_type": "code",
      "metadata": {
        "id": "vDZUPKNvDFTa",
        "colab_type": "code",
        "outputId": "3043e6db-245b-495a-c1d1-9ca2740099d1",
        "colab": {
          "base_uri": "https://localhost:8080/",
          "height": 309
        }
      },
      "source": [
        "df_joined.head()"
      ],
      "execution_count": 35,
      "outputs": [
        {
          "output_type": "execute_result",
          "data": {
            "text/html": [
              "<div>\n",
              "<style scoped>\n",
              "    .dataframe tbody tr th:only-of-type {\n",
              "        vertical-align: middle;\n",
              "    }\n",
              "\n",
              "    .dataframe tbody tr th {\n",
              "        vertical-align: top;\n",
              "    }\n",
              "\n",
              "    .dataframe thead th {\n",
              "        text-align: right;\n",
              "    }\n",
              "</style>\n",
              "<table border=\"1\" class=\"dataframe\">\n",
              "  <thead>\n",
              "    <tr style=\"text-align: right;\">\n",
              "      <th></th>\n",
              "      <th>index</th>\n",
              "      <th>company--x</th>\n",
              "      <th>body-style--x</th>\n",
              "      <th>wheel-base--x</th>\n",
              "      <th>length</th>\n",
              "      <th>engine-type</th>\n",
              "      <th>num-of-cylinders</th>\n",
              "      <th>horsepower</th>\n",
              "      <th>average-mileage</th>\n",
              "      <th>price</th>\n",
              "      <th>company--y</th>\n",
              "      <th>body-style--y</th>\n",
              "      <th>wheel-base--y</th>\n",
              "    </tr>\n",
              "  </thead>\n",
              "  <tbody>\n",
              "    <tr>\n",
              "      <th>0</th>\n",
              "      <td>0</td>\n",
              "      <td>alfa-romero</td>\n",
              "      <td>convertible</td>\n",
              "      <td>88.6</td>\n",
              "      <td>168.8</td>\n",
              "      <td>dohc</td>\n",
              "      <td>four</td>\n",
              "      <td>111</td>\n",
              "      <td>21</td>\n",
              "      <td>13495.0</td>\n",
              "      <td>alfa-romero</td>\n",
              "      <td>convertible</td>\n",
              "      <td>88.6</td>\n",
              "    </tr>\n",
              "    <tr>\n",
              "      <th>1</th>\n",
              "      <td>1</td>\n",
              "      <td>alfa-romero</td>\n",
              "      <td>convertible</td>\n",
              "      <td>88.6</td>\n",
              "      <td>168.8</td>\n",
              "      <td>dohc</td>\n",
              "      <td>four</td>\n",
              "      <td>111</td>\n",
              "      <td>21</td>\n",
              "      <td>16500.0</td>\n",
              "      <td>audi</td>\n",
              "      <td>sedan</td>\n",
              "      <td>99.8</td>\n",
              "    </tr>\n",
              "    <tr>\n",
              "      <th>2</th>\n",
              "      <td>2</td>\n",
              "      <td>alfa-romero</td>\n",
              "      <td>hatchback</td>\n",
              "      <td>94.5</td>\n",
              "      <td>171.2</td>\n",
              "      <td>ohcv</td>\n",
              "      <td>six</td>\n",
              "      <td>154</td>\n",
              "      <td>19</td>\n",
              "      <td>16500.0</td>\n",
              "      <td>audi</td>\n",
              "      <td>convertible</td>\n",
              "      <td>99.4</td>\n",
              "    </tr>\n",
              "    <tr>\n",
              "      <th>3</th>\n",
              "      <td>3</td>\n",
              "      <td>audi</td>\n",
              "      <td>sedan</td>\n",
              "      <td>99.8</td>\n",
              "      <td>176.6</td>\n",
              "      <td>ohc</td>\n",
              "      <td>four</td>\n",
              "      <td>102</td>\n",
              "      <td>24</td>\n",
              "      <td>13950.0</td>\n",
              "      <td>audi</td>\n",
              "      <td>sedan</td>\n",
              "      <td>99.8</td>\n",
              "    </tr>\n",
              "    <tr>\n",
              "      <th>4</th>\n",
              "      <td>4</td>\n",
              "      <td>audi</td>\n",
              "      <td>sedan</td>\n",
              "      <td>99.4</td>\n",
              "      <td>176.6</td>\n",
              "      <td>ohc</td>\n",
              "      <td>five</td>\n",
              "      <td>115</td>\n",
              "      <td>18</td>\n",
              "      <td>17450.0</td>\n",
              "      <td>audi</td>\n",
              "      <td>wagon</td>\n",
              "      <td>105.8</td>\n",
              "    </tr>\n",
              "  </tbody>\n",
              "</table>\n",
              "</div>"
            ],
            "text/plain": [
              "   index   company--x body-style--x  ...   company--y  body-style--y wheel-base--y\n",
              "0      0  alfa-romero   convertible  ...  alfa-romero    convertible          88.6\n",
              "1      1  alfa-romero   convertible  ...         audi          sedan          99.8\n",
              "2      2  alfa-romero     hatchback  ...         audi    convertible          99.4\n",
              "3      3         audi         sedan  ...         audi          sedan          99.8\n",
              "4      4         audi         sedan  ...         audi          wagon         105.8\n",
              "\n",
              "[5 rows x 13 columns]"
            ]
          },
          "metadata": {
            "tags": []
          },
          "execution_count": 35
        }
      ]
    },
    {
      "cell_type": "code",
      "metadata": {
        "scrolled": true,
        "id": "6fAAeZqYDFTd",
        "colab_type": "code",
        "colab": {}
      },
      "source": [
        "#Groupby demonstrated in simplest way possible\n",
        "grouped=df.groupby('company')\n",
        "grouped\n",
        "grouped1=df.groupby('body-style')"
      ],
      "execution_count": 0,
      "outputs": []
    },
    {
      "cell_type": "code",
      "metadata": {
        "id": "GMhzQlaNDFTh",
        "colab_type": "code",
        "outputId": "8b3e4057-3700-4ca6-96b4-9412c035625e",
        "colab": {
          "base_uri": "https://localhost:8080/",
          "height": 289
        }
      },
      "source": [
        "grouped.groups"
      ],
      "execution_count": 37,
      "outputs": [
        {
          "output_type": "execute_result",
          "data": {
            "text/plain": [
              "{'alfa-romero': Int64Index([0, 1, 2], dtype='int64'),\n",
              " 'audi': Int64Index([3, 4, 5, 6], dtype='int64'),\n",
              " 'bmw': Int64Index([7, 8, 9, 10, 11, 12], dtype='int64'),\n",
              " 'chevrolet': Int64Index([13, 14, 15], dtype='int64'),\n",
              " 'dodge': Int64Index([16, 17], dtype='int64'),\n",
              " 'honda': Int64Index([18, 19, 20], dtype='int64'),\n",
              " 'isuzu': Int64Index([21, 22, 23], dtype='int64'),\n",
              " 'jaguar': Int64Index([24, 25, 26], dtype='int64'),\n",
              " 'mazda': Int64Index([27, 28, 29, 30, 31], dtype='int64'),\n",
              " 'mercedes-benz': Int64Index([32, 33, 34, 35], dtype='int64'),\n",
              " 'mitsubishi': Int64Index([36, 37, 38, 39], dtype='int64'),\n",
              " 'nissan': Int64Index([40, 41, 42, 43, 44], dtype='int64'),\n",
              " 'porsche': Int64Index([45, 46, 47], dtype='int64'),\n",
              " 'toyota': Int64Index([48, 49, 50, 51, 52, 53, 54], dtype='int64'),\n",
              " 'volkswagen': Int64Index([55, 56, 57, 58], dtype='int64'),\n",
              " 'volvo': Int64Index([59, 60], dtype='int64')}"
            ]
          },
          "metadata": {
            "tags": []
          },
          "execution_count": 37
        }
      ]
    },
    {
      "cell_type": "code",
      "metadata": {
        "id": "4ijcoFBwDFTm",
        "colab_type": "code",
        "outputId": "5545cefe-e84f-4eb4-ecc5-55171340ddfa",
        "colab": {
          "base_uri": "https://localhost:8080/",
          "height": 136
        }
      },
      "source": [
        "grouped1.groups"
      ],
      "execution_count": 38,
      "outputs": [
        {
          "output_type": "execute_result",
          "data": {
            "text/plain": [
              "{'convertible': Int64Index([0, 1, 46], dtype='int64'),\n",
              " 'hardtop': Int64Index([35, 45], dtype='int64'),\n",
              " 'hatchback': Int64Index([2, 13, 14, 16, 17, 27, 28, 29, 30, 36, 37, 47, 48, 49, 50], dtype='int64'),\n",
              " 'sedan': Int64Index([ 3,  4,  5,  7,  8,  9, 10, 11, 12, 15, 19, 20, 21, 22, 23, 24, 25,\n",
              "             26, 31, 32, 34, 38, 39, 40, 41, 42, 44, 55, 56, 57, 58, 59],\n",
              "            dtype='int64'),\n",
              " 'wagon': Int64Index([6, 18, 33, 43, 51, 52, 53, 54, 60], dtype='int64')}"
            ]
          },
          "metadata": {
            "tags": []
          },
          "execution_count": 38
        }
      ]
    },
    {
      "cell_type": "code",
      "metadata": {
        "id": "P95dfM7kDFTq",
        "colab_type": "code",
        "colab": {}
      },
      "source": [
        ""
      ],
      "execution_count": 0,
      "outputs": []
    },
    {
      "cell_type": "code",
      "metadata": {
        "scrolled": false,
        "id": "Va0qI87rDFTt",
        "colab_type": "code",
        "outputId": "5b591268-ce17-47d5-b87d-e583f4637001",
        "colab": {
          "base_uri": "https://localhost:8080/",
          "height": 204
        }
      },
      "source": [
        "#Select a specific group\n",
        "#By calling get_group with the name of the group, we can return the respective subset of the data.\n",
        "\n",
        "grouped1.get_group('sedan').head()"
      ],
      "execution_count": 39,
      "outputs": [
        {
          "output_type": "execute_result",
          "data": {
            "text/html": [
              "<div>\n",
              "<style scoped>\n",
              "    .dataframe tbody tr th:only-of-type {\n",
              "        vertical-align: middle;\n",
              "    }\n",
              "\n",
              "    .dataframe tbody tr th {\n",
              "        vertical-align: top;\n",
              "    }\n",
              "\n",
              "    .dataframe thead th {\n",
              "        text-align: right;\n",
              "    }\n",
              "</style>\n",
              "<table border=\"1\" class=\"dataframe\">\n",
              "  <thead>\n",
              "    <tr style=\"text-align: right;\">\n",
              "      <th></th>\n",
              "      <th>index</th>\n",
              "      <th>company</th>\n",
              "      <th>body-style</th>\n",
              "      <th>wheel-base</th>\n",
              "      <th>length</th>\n",
              "      <th>engine-type</th>\n",
              "      <th>num-of-cylinders</th>\n",
              "      <th>horsepower</th>\n",
              "      <th>average-mileage</th>\n",
              "      <th>price</th>\n",
              "    </tr>\n",
              "  </thead>\n",
              "  <tbody>\n",
              "    <tr>\n",
              "      <th>3</th>\n",
              "      <td>3</td>\n",
              "      <td>audi</td>\n",
              "      <td>sedan</td>\n",
              "      <td>99.8</td>\n",
              "      <td>176.6</td>\n",
              "      <td>ohc</td>\n",
              "      <td>four</td>\n",
              "      <td>102</td>\n",
              "      <td>24</td>\n",
              "      <td>13950.0</td>\n",
              "    </tr>\n",
              "    <tr>\n",
              "      <th>4</th>\n",
              "      <td>4</td>\n",
              "      <td>audi</td>\n",
              "      <td>sedan</td>\n",
              "      <td>99.4</td>\n",
              "      <td>176.6</td>\n",
              "      <td>ohc</td>\n",
              "      <td>five</td>\n",
              "      <td>115</td>\n",
              "      <td>18</td>\n",
              "      <td>17450.0</td>\n",
              "    </tr>\n",
              "    <tr>\n",
              "      <th>5</th>\n",
              "      <td>5</td>\n",
              "      <td>audi</td>\n",
              "      <td>sedan</td>\n",
              "      <td>99.8</td>\n",
              "      <td>177.3</td>\n",
              "      <td>ohc</td>\n",
              "      <td>five</td>\n",
              "      <td>110</td>\n",
              "      <td>19</td>\n",
              "      <td>15250.0</td>\n",
              "    </tr>\n",
              "    <tr>\n",
              "      <th>7</th>\n",
              "      <td>9</td>\n",
              "      <td>bmw</td>\n",
              "      <td>sedan</td>\n",
              "      <td>101.2</td>\n",
              "      <td>176.8</td>\n",
              "      <td>ohc</td>\n",
              "      <td>four</td>\n",
              "      <td>101</td>\n",
              "      <td>23</td>\n",
              "      <td>16430.0</td>\n",
              "    </tr>\n",
              "    <tr>\n",
              "      <th>8</th>\n",
              "      <td>10</td>\n",
              "      <td>bmw</td>\n",
              "      <td>sedan</td>\n",
              "      <td>101.2</td>\n",
              "      <td>176.8</td>\n",
              "      <td>ohc</td>\n",
              "      <td>four</td>\n",
              "      <td>101</td>\n",
              "      <td>23</td>\n",
              "      <td>16925.0</td>\n",
              "    </tr>\n",
              "  </tbody>\n",
              "</table>\n",
              "</div>"
            ],
            "text/plain": [
              "   index company body-style  ...  horsepower  average-mileage    price\n",
              "3      3    audi      sedan  ...         102               24  13950.0\n",
              "4      4    audi      sedan  ...         115               18  17450.0\n",
              "5      5    audi      sedan  ...         110               19  15250.0\n",
              "7      9     bmw      sedan  ...         101               23  16430.0\n",
              "8     10     bmw      sedan  ...         101               23  16925.0\n",
              "\n",
              "[5 rows x 10 columns]"
            ]
          },
          "metadata": {
            "tags": []
          },
          "execution_count": 39
        }
      ]
    },
    {
      "cell_type": "code",
      "metadata": {
        "id": "-7-dgEiDDFTw",
        "colab_type": "code",
        "outputId": "7b10d457-f239-4923-e4ea-834dd741d1df",
        "colab": {
          "base_uri": "https://localhost:8080/",
          "height": 136
        }
      },
      "source": [
        "grouped1.size()"
      ],
      "execution_count": 40,
      "outputs": [
        {
          "output_type": "execute_result",
          "data": {
            "text/plain": [
              "body-style\n",
              "convertible     3\n",
              "hardtop         2\n",
              "hatchback      15\n",
              "sedan          32\n",
              "wagon           9\n",
              "dtype: int64"
            ]
          },
          "metadata": {
            "tags": []
          },
          "execution_count": 40
        }
      ]
    },
    {
      "cell_type": "code",
      "metadata": {
        "id": "YRK3Y-zQDFT0",
        "colab_type": "code",
        "outputId": "c654cc8a-4ebb-4ac7-da30-6fd04ebae288",
        "colab": {
          "base_uri": "https://localhost:8080/",
          "height": 102
        }
      },
      "source": [
        "#Inexample, we apply qcut to a column. qcut allocates the data equally into a fixed number of bins.\n",
        "df.groupby(\n",
        "  pd.qcut(x=df['horsepower'],q=3,labels=['low','mid','high'])).size()\n",
        "\n",
        "#checkout the groupby pd.cut to allocate the data to bins of specified boundaries"
      ],
      "execution_count": 41,
      "outputs": [
        {
          "output_type": "execute_result",
          "data": {
            "text/plain": [
              "horsepower\n",
              "low     24\n",
              "mid     17\n",
              "high    20\n",
              "dtype: int64"
            ]
          },
          "metadata": {
            "tags": []
          },
          "execution_count": 41
        }
      ]
    },
    {
      "cell_type": "code",
      "metadata": {
        "id": "wxkUzur7DFT4",
        "colab_type": "code",
        "outputId": "fdc24c76-02bc-4d10-c121-c24a0376d470",
        "colab": {
          "base_uri": "https://localhost:8080/",
          "height": 323
        }
      },
      "source": [
        "grouped['average-mileage'].mean()  ## we get average mileage of car belonging to different companies"
      ],
      "execution_count": 42,
      "outputs": [
        {
          "output_type": "execute_result",
          "data": {
            "text/plain": [
              "company\n",
              "alfa-romero      20.333333\n",
              "audi             20.000000\n",
              "bmw              19.000000\n",
              "chevrolet        41.000000\n",
              "dodge            31.000000\n",
              "honda            26.333333\n",
              "isuzu            33.333333\n",
              "jaguar           14.333333\n",
              "mazda            28.000000\n",
              "mercedes-benz    18.000000\n",
              "mitsubishi       29.500000\n",
              "nissan           31.400000\n",
              "porsche          17.000000\n",
              "toyota           28.714286\n",
              "volkswagen       31.750000\n",
              "volvo            23.000000\n",
              "Name: average-mileage, dtype: float64"
            ]
          },
          "metadata": {
            "tags": []
          },
          "execution_count": 42
        }
      ]
    },
    {
      "cell_type": "code",
      "metadata": {
        "id": "rWGyaCNZDFT-",
        "colab_type": "code",
        "outputId": "e6e22323-c278-4cde-e67e-41089826318a",
        "colab": {
          "base_uri": "https://localhost:8080/",
          "height": 607
        }
      },
      "source": [
        "#so this gives us overall aggregate of all the required data in required format that can be customized.\n",
        "df.groupby('company').agg({ \n",
        "    'body-style':'size',\n",
        "    'average-mileage':['sum','mean'],\n",
        "    'price':['sum','mean']\n",
        "})\n",
        "\n",
        "##body-style ,average-mileage, price are the keys which are columns names and values are the functions that are being applied."
      ],
      "execution_count": 43,
      "outputs": [
        {
          "output_type": "execute_result",
          "data": {
            "text/html": [
              "<div>\n",
              "<style scoped>\n",
              "    .dataframe tbody tr th:only-of-type {\n",
              "        vertical-align: middle;\n",
              "    }\n",
              "\n",
              "    .dataframe tbody tr th {\n",
              "        vertical-align: top;\n",
              "    }\n",
              "\n",
              "    .dataframe thead tr th {\n",
              "        text-align: left;\n",
              "    }\n",
              "\n",
              "    .dataframe thead tr:last-of-type th {\n",
              "        text-align: right;\n",
              "    }\n",
              "</style>\n",
              "<table border=\"1\" class=\"dataframe\">\n",
              "  <thead>\n",
              "    <tr>\n",
              "      <th></th>\n",
              "      <th>body-style</th>\n",
              "      <th colspan=\"2\" halign=\"left\">average-mileage</th>\n",
              "      <th colspan=\"2\" halign=\"left\">price</th>\n",
              "    </tr>\n",
              "    <tr>\n",
              "      <th></th>\n",
              "      <th>size</th>\n",
              "      <th>sum</th>\n",
              "      <th>mean</th>\n",
              "      <th>sum</th>\n",
              "      <th>mean</th>\n",
              "    </tr>\n",
              "    <tr>\n",
              "      <th>company</th>\n",
              "      <th></th>\n",
              "      <th></th>\n",
              "      <th></th>\n",
              "      <th></th>\n",
              "      <th></th>\n",
              "    </tr>\n",
              "  </thead>\n",
              "  <tbody>\n",
              "    <tr>\n",
              "      <th>alfa-romero</th>\n",
              "      <td>3</td>\n",
              "      <td>61</td>\n",
              "      <td>20.333333</td>\n",
              "      <td>46495.0</td>\n",
              "      <td>15498.333333</td>\n",
              "    </tr>\n",
              "    <tr>\n",
              "      <th>audi</th>\n",
              "      <td>4</td>\n",
              "      <td>80</td>\n",
              "      <td>20.000000</td>\n",
              "      <td>65570.0</td>\n",
              "      <td>16392.500000</td>\n",
              "    </tr>\n",
              "    <tr>\n",
              "      <th>bmw</th>\n",
              "      <td>6</td>\n",
              "      <td>114</td>\n",
              "      <td>19.000000</td>\n",
              "      <td>163280.0</td>\n",
              "      <td>27213.333333</td>\n",
              "    </tr>\n",
              "    <tr>\n",
              "      <th>chevrolet</th>\n",
              "      <td>3</td>\n",
              "      <td>123</td>\n",
              "      <td>41.000000</td>\n",
              "      <td>18021.0</td>\n",
              "      <td>6007.000000</td>\n",
              "    </tr>\n",
              "    <tr>\n",
              "      <th>dodge</th>\n",
              "      <td>2</td>\n",
              "      <td>62</td>\n",
              "      <td>31.000000</td>\n",
              "      <td>12606.0</td>\n",
              "      <td>6303.000000</td>\n",
              "    </tr>\n",
              "    <tr>\n",
              "      <th>honda</th>\n",
              "      <td>3</td>\n",
              "      <td>79</td>\n",
              "      <td>26.333333</td>\n",
              "      <td>30585.0</td>\n",
              "      <td>10195.000000</td>\n",
              "    </tr>\n",
              "    <tr>\n",
              "      <th>isuzu</th>\n",
              "      <td>3</td>\n",
              "      <td>100</td>\n",
              "      <td>33.333333</td>\n",
              "      <td>6785.0</td>\n",
              "      <td>6785.000000</td>\n",
              "    </tr>\n",
              "    <tr>\n",
              "      <th>jaguar</th>\n",
              "      <td>3</td>\n",
              "      <td>43</td>\n",
              "      <td>14.333333</td>\n",
              "      <td>103800.0</td>\n",
              "      <td>34600.000000</td>\n",
              "    </tr>\n",
              "    <tr>\n",
              "      <th>mazda</th>\n",
              "      <td>5</td>\n",
              "      <td>140</td>\n",
              "      <td>28.000000</td>\n",
              "      <td>48274.0</td>\n",
              "      <td>9654.800000</td>\n",
              "    </tr>\n",
              "    <tr>\n",
              "      <th>mercedes-benz</th>\n",
              "      <td>4</td>\n",
              "      <td>72</td>\n",
              "      <td>18.000000</td>\n",
              "      <td>140160.0</td>\n",
              "      <td>35040.000000</td>\n",
              "    </tr>\n",
              "    <tr>\n",
              "      <th>mitsubishi</th>\n",
              "      <td>4</td>\n",
              "      <td>118</td>\n",
              "      <td>29.500000</td>\n",
              "      <td>26756.0</td>\n",
              "      <td>6689.000000</td>\n",
              "    </tr>\n",
              "    <tr>\n",
              "      <th>nissan</th>\n",
              "      <td>5</td>\n",
              "      <td>157</td>\n",
              "      <td>31.400000</td>\n",
              "      <td>41445.0</td>\n",
              "      <td>8289.000000</td>\n",
              "    </tr>\n",
              "    <tr>\n",
              "      <th>porsche</th>\n",
              "      <td>3</td>\n",
              "      <td>51</td>\n",
              "      <td>17.000000</td>\n",
              "      <td>71056.0</td>\n",
              "      <td>35528.000000</td>\n",
              "    </tr>\n",
              "    <tr>\n",
              "      <th>toyota</th>\n",
              "      <td>7</td>\n",
              "      <td>201</td>\n",
              "      <td>28.714286</td>\n",
              "      <td>57518.0</td>\n",
              "      <td>8216.857143</td>\n",
              "    </tr>\n",
              "    <tr>\n",
              "      <th>volkswagen</th>\n",
              "      <td>4</td>\n",
              "      <td>127</td>\n",
              "      <td>31.750000</td>\n",
              "      <td>33740.0</td>\n",
              "      <td>8435.000000</td>\n",
              "    </tr>\n",
              "    <tr>\n",
              "      <th>volvo</th>\n",
              "      <td>2</td>\n",
              "      <td>46</td>\n",
              "      <td>23.000000</td>\n",
              "      <td>26355.0</td>\n",
              "      <td>13177.500000</td>\n",
              "    </tr>\n",
              "  </tbody>\n",
              "</table>\n",
              "</div>"
            ],
            "text/plain": [
              "              body-style average-mileage                price              \n",
              "                    size             sum       mean       sum          mean\n",
              "company                                                                    \n",
              "alfa-romero            3              61  20.333333   46495.0  15498.333333\n",
              "audi                   4              80  20.000000   65570.0  16392.500000\n",
              "bmw                    6             114  19.000000  163280.0  27213.333333\n",
              "chevrolet              3             123  41.000000   18021.0   6007.000000\n",
              "dodge                  2              62  31.000000   12606.0   6303.000000\n",
              "honda                  3              79  26.333333   30585.0  10195.000000\n",
              "isuzu                  3             100  33.333333    6785.0   6785.000000\n",
              "jaguar                 3              43  14.333333  103800.0  34600.000000\n",
              "mazda                  5             140  28.000000   48274.0   9654.800000\n",
              "mercedes-benz          4              72  18.000000  140160.0  35040.000000\n",
              "mitsubishi             4             118  29.500000   26756.0   6689.000000\n",
              "nissan                 5             157  31.400000   41445.0   8289.000000\n",
              "porsche                3              51  17.000000   71056.0  35528.000000\n",
              "toyota                 7             201  28.714286   57518.0   8216.857143\n",
              "volkswagen             4             127  31.750000   33740.0   8435.000000\n",
              "volvo                  2              46  23.000000   26355.0  13177.500000"
            ]
          },
          "metadata": {
            "tags": []
          },
          "execution_count": 43
        }
      ]
    },
    {
      "cell_type": "markdown",
      "metadata": {
        "id": "HGacqIdNDFUC",
        "colab_type": "text"
      },
      "source": [
        " Most Commonly used function for agg\n",
        "'size': Counts the rows\n",
        "'sum': Sums the column up\n",
        "'mean'/'median': Mean/Median of the column\n",
        "'max'/'min': Maximum/Minimum of the column\n",
        "'idxmax'/'idxmin': Index of the maximum/minimum of the column. Getting the index of the minimal or maximal value is helpful for mapping other columns, i.e., what's the name of the company per sales rep with the biggest deal\n",
        "pd.Series.nunique: Counts unique values. Note that, unlike the previous functions, this is an actual function and not a string."
      ]
    },
    {
      "cell_type": "code",
      "metadata": {
        "id": "GqcX45DLDFUC",
        "colab_type": "code",
        "colab": {}
      },
      "source": [
        "#let us understand Map,Apply,ApplyMap\n",
        "#1)using Map to see if mileage is good or not.(lambda function is applied to all the values in the average-milaege column)\n",
        "df['good milege?']=df['average-mileage'].map(lambda mileage:'yes' if mileage>=22 else 'no')"
      ],
      "execution_count": 0,
      "outputs": []
    },
    {
      "cell_type": "code",
      "metadata": {
        "id": "achjnvwYDFUF",
        "colab_type": "code",
        "outputId": "cc4ebd42-f784-4726-994b-6fd116feb288",
        "colab": {
          "base_uri": "https://localhost:8080/",
          "height": 272
        }
      },
      "source": [
        "df.head()"
      ],
      "execution_count": 45,
      "outputs": [
        {
          "output_type": "execute_result",
          "data": {
            "text/html": [
              "<div>\n",
              "<style scoped>\n",
              "    .dataframe tbody tr th:only-of-type {\n",
              "        vertical-align: middle;\n",
              "    }\n",
              "\n",
              "    .dataframe tbody tr th {\n",
              "        vertical-align: top;\n",
              "    }\n",
              "\n",
              "    .dataframe thead th {\n",
              "        text-align: right;\n",
              "    }\n",
              "</style>\n",
              "<table border=\"1\" class=\"dataframe\">\n",
              "  <thead>\n",
              "    <tr style=\"text-align: right;\">\n",
              "      <th></th>\n",
              "      <th>index</th>\n",
              "      <th>company</th>\n",
              "      <th>body-style</th>\n",
              "      <th>wheel-base</th>\n",
              "      <th>length</th>\n",
              "      <th>engine-type</th>\n",
              "      <th>num-of-cylinders</th>\n",
              "      <th>horsepower</th>\n",
              "      <th>average-mileage</th>\n",
              "      <th>price</th>\n",
              "      <th>good milege?</th>\n",
              "    </tr>\n",
              "  </thead>\n",
              "  <tbody>\n",
              "    <tr>\n",
              "      <th>0</th>\n",
              "      <td>0</td>\n",
              "      <td>alfa-romero</td>\n",
              "      <td>convertible</td>\n",
              "      <td>88.6</td>\n",
              "      <td>168.8</td>\n",
              "      <td>dohc</td>\n",
              "      <td>four</td>\n",
              "      <td>111</td>\n",
              "      <td>21</td>\n",
              "      <td>13495.0</td>\n",
              "      <td>no</td>\n",
              "    </tr>\n",
              "    <tr>\n",
              "      <th>1</th>\n",
              "      <td>1</td>\n",
              "      <td>alfa-romero</td>\n",
              "      <td>convertible</td>\n",
              "      <td>88.6</td>\n",
              "      <td>168.8</td>\n",
              "      <td>dohc</td>\n",
              "      <td>four</td>\n",
              "      <td>111</td>\n",
              "      <td>21</td>\n",
              "      <td>16500.0</td>\n",
              "      <td>no</td>\n",
              "    </tr>\n",
              "    <tr>\n",
              "      <th>2</th>\n",
              "      <td>2</td>\n",
              "      <td>alfa-romero</td>\n",
              "      <td>hatchback</td>\n",
              "      <td>94.5</td>\n",
              "      <td>171.2</td>\n",
              "      <td>ohcv</td>\n",
              "      <td>six</td>\n",
              "      <td>154</td>\n",
              "      <td>19</td>\n",
              "      <td>16500.0</td>\n",
              "      <td>no</td>\n",
              "    </tr>\n",
              "    <tr>\n",
              "      <th>3</th>\n",
              "      <td>3</td>\n",
              "      <td>audi</td>\n",
              "      <td>sedan</td>\n",
              "      <td>99.8</td>\n",
              "      <td>176.6</td>\n",
              "      <td>ohc</td>\n",
              "      <td>four</td>\n",
              "      <td>102</td>\n",
              "      <td>24</td>\n",
              "      <td>13950.0</td>\n",
              "      <td>yes</td>\n",
              "    </tr>\n",
              "    <tr>\n",
              "      <th>4</th>\n",
              "      <td>4</td>\n",
              "      <td>audi</td>\n",
              "      <td>sedan</td>\n",
              "      <td>99.4</td>\n",
              "      <td>176.6</td>\n",
              "      <td>ohc</td>\n",
              "      <td>five</td>\n",
              "      <td>115</td>\n",
              "      <td>18</td>\n",
              "      <td>17450.0</td>\n",
              "      <td>no</td>\n",
              "    </tr>\n",
              "  </tbody>\n",
              "</table>\n",
              "</div>"
            ],
            "text/plain": [
              "   index      company   body-style  ...  average-mileage    price good milege?\n",
              "0      0  alfa-romero  convertible  ...               21  13495.0           no\n",
              "1      1  alfa-romero  convertible  ...               21  16500.0           no\n",
              "2      2  alfa-romero    hatchback  ...               19  16500.0           no\n",
              "3      3         audi        sedan  ...               24  13950.0          yes\n",
              "4      4         audi        sedan  ...               18  17450.0           no\n",
              "\n",
              "[5 rows x 11 columns]"
            ]
          },
          "metadata": {
            "tags": []
          },
          "execution_count": 45
        }
      ]
    },
    {
      "cell_type": "code",
      "metadata": {
        "id": "_lJayYMnDFUJ",
        "colab_type": "code",
        "colab": {}
      },
      "source": [
        "#2)using Apply function to the dataframe\n",
        "#Let us convert the horse power(hp) to kW(kilo watts).1hp=0.745kW\n",
        "def converttokW(x):\n",
        "    out=x*0.745\n",
        "    return out\n",
        "    \n",
        "df['horsepower(kW)']=df['horsepower'].apply(lambda x:converttokW(x))"
      ],
      "execution_count": 0,
      "outputs": []
    },
    {
      "cell_type": "code",
      "metadata": {
        "id": "ptkZnEKRDFUM",
        "colab_type": "code",
        "outputId": "1ee2de21-cf36-4976-aba1-7ba5189be2a7",
        "colab": {}
      },
      "source": [
        "df.head()"
      ],
      "execution_count": 0,
      "outputs": [
        {
          "output_type": "execute_result",
          "data": {
            "text/html": [
              "<div>\n",
              "<style scoped>\n",
              "    .dataframe tbody tr th:only-of-type {\n",
              "        vertical-align: middle;\n",
              "    }\n",
              "\n",
              "    .dataframe tbody tr th {\n",
              "        vertical-align: top;\n",
              "    }\n",
              "\n",
              "    .dataframe thead th {\n",
              "        text-align: right;\n",
              "    }\n",
              "</style>\n",
              "<table border=\"1\" class=\"dataframe\">\n",
              "  <thead>\n",
              "    <tr style=\"text-align: right;\">\n",
              "      <th></th>\n",
              "      <th>index</th>\n",
              "      <th>company</th>\n",
              "      <th>body-style</th>\n",
              "      <th>wheel-base</th>\n",
              "      <th>length</th>\n",
              "      <th>engine-type</th>\n",
              "      <th>num-of-cylinders</th>\n",
              "      <th>horsepower</th>\n",
              "      <th>average-mileage</th>\n",
              "      <th>price</th>\n",
              "      <th>good milege?</th>\n",
              "      <th>horsepower(kW)</th>\n",
              "    </tr>\n",
              "  </thead>\n",
              "  <tbody>\n",
              "    <tr>\n",
              "      <th>0</th>\n",
              "      <td>0</td>\n",
              "      <td>alfa-romero</td>\n",
              "      <td>convertible</td>\n",
              "      <td>88.6</td>\n",
              "      <td>168.8</td>\n",
              "      <td>dohc</td>\n",
              "      <td>four</td>\n",
              "      <td>111</td>\n",
              "      <td>21</td>\n",
              "      <td>13495.0</td>\n",
              "      <td>no</td>\n",
              "      <td>82.695</td>\n",
              "    </tr>\n",
              "    <tr>\n",
              "      <th>1</th>\n",
              "      <td>1</td>\n",
              "      <td>alfa-romero</td>\n",
              "      <td>convertible</td>\n",
              "      <td>88.6</td>\n",
              "      <td>168.8</td>\n",
              "      <td>dohc</td>\n",
              "      <td>four</td>\n",
              "      <td>111</td>\n",
              "      <td>21</td>\n",
              "      <td>16500.0</td>\n",
              "      <td>no</td>\n",
              "      <td>82.695</td>\n",
              "    </tr>\n",
              "    <tr>\n",
              "      <th>2</th>\n",
              "      <td>2</td>\n",
              "      <td>alfa-romero</td>\n",
              "      <td>hatchback</td>\n",
              "      <td>94.5</td>\n",
              "      <td>171.2</td>\n",
              "      <td>ohcv</td>\n",
              "      <td>six</td>\n",
              "      <td>154</td>\n",
              "      <td>19</td>\n",
              "      <td>16500.0</td>\n",
              "      <td>no</td>\n",
              "      <td>114.730</td>\n",
              "    </tr>\n",
              "    <tr>\n",
              "      <th>3</th>\n",
              "      <td>3</td>\n",
              "      <td>audi</td>\n",
              "      <td>sedan</td>\n",
              "      <td>99.8</td>\n",
              "      <td>176.6</td>\n",
              "      <td>ohc</td>\n",
              "      <td>four</td>\n",
              "      <td>102</td>\n",
              "      <td>24</td>\n",
              "      <td>13950.0</td>\n",
              "      <td>yes</td>\n",
              "      <td>75.990</td>\n",
              "    </tr>\n",
              "    <tr>\n",
              "      <th>4</th>\n",
              "      <td>4</td>\n",
              "      <td>audi</td>\n",
              "      <td>sedan</td>\n",
              "      <td>99.4</td>\n",
              "      <td>176.6</td>\n",
              "      <td>ohc</td>\n",
              "      <td>five</td>\n",
              "      <td>115</td>\n",
              "      <td>18</td>\n",
              "      <td>17450.0</td>\n",
              "      <td>no</td>\n",
              "      <td>85.675</td>\n",
              "    </tr>\n",
              "  </tbody>\n",
              "</table>\n",
              "</div>"
            ],
            "text/plain": [
              "   index      company   body-style  wheel-base  length engine-type  \\\n",
              "0      0  alfa-romero  convertible        88.6   168.8        dohc   \n",
              "1      1  alfa-romero  convertible        88.6   168.8        dohc   \n",
              "2      2  alfa-romero    hatchback        94.5   171.2        ohcv   \n",
              "3      3         audi        sedan        99.8   176.6         ohc   \n",
              "4      4         audi        sedan        99.4   176.6         ohc   \n",
              "\n",
              "  num-of-cylinders  horsepower  average-mileage    price good milege?  \\\n",
              "0             four         111               21  13495.0           no   \n",
              "1             four         111               21  16500.0           no   \n",
              "2              six         154               19  16500.0           no   \n",
              "3             four         102               24  13950.0          yes   \n",
              "4             five         115               18  17450.0           no   \n",
              "\n",
              "   horsepower(kW)  \n",
              "0          82.695  \n",
              "1          82.695  \n",
              "2         114.730  \n",
              "3          75.990  \n",
              "4          85.675  "
            ]
          },
          "metadata": {
            "tags": []
          },
          "execution_count": 89
        }
      ]
    },
    {
      "cell_type": "code",
      "metadata": {
        "id": "PpJ1imbbDFUP",
        "colab_type": "code",
        "colab": {}
      },
      "source": [
        "#3)Using applyMap in the dataframe.it is mostly used to apply for all the elements in dataframe ie datatype of all elements are same\n",
        "\n",
        "columns=['wheel-base','length','horsepower','average-mileage']\n",
        "df_new=df[columns]"
      ],
      "execution_count": 0,
      "outputs": []
    },
    {
      "cell_type": "code",
      "metadata": {
        "id": "v6xGKst8DFUf",
        "colab_type": "code",
        "outputId": "e3216f3b-d1b9-498a-fcc6-dc32bce1e7fe",
        "colab": {}
      },
      "source": [
        "df_new.head()"
      ],
      "execution_count": 0,
      "outputs": [
        {
          "output_type": "execute_result",
          "data": {
            "text/html": [
              "<div>\n",
              "<style scoped>\n",
              "    .dataframe tbody tr th:only-of-type {\n",
              "        vertical-align: middle;\n",
              "    }\n",
              "\n",
              "    .dataframe tbody tr th {\n",
              "        vertical-align: top;\n",
              "    }\n",
              "\n",
              "    .dataframe thead th {\n",
              "        text-align: right;\n",
              "    }\n",
              "</style>\n",
              "<table border=\"1\" class=\"dataframe\">\n",
              "  <thead>\n",
              "    <tr style=\"text-align: right;\">\n",
              "      <th></th>\n",
              "      <th>wheel-base</th>\n",
              "      <th>length</th>\n",
              "      <th>horsepower</th>\n",
              "      <th>average-mileage</th>\n",
              "    </tr>\n",
              "  </thead>\n",
              "  <tbody>\n",
              "    <tr>\n",
              "      <th>0</th>\n",
              "      <td>88.6</td>\n",
              "      <td>168.8</td>\n",
              "      <td>111</td>\n",
              "      <td>21</td>\n",
              "    </tr>\n",
              "    <tr>\n",
              "      <th>1</th>\n",
              "      <td>88.6</td>\n",
              "      <td>168.8</td>\n",
              "      <td>111</td>\n",
              "      <td>21</td>\n",
              "    </tr>\n",
              "    <tr>\n",
              "      <th>2</th>\n",
              "      <td>94.5</td>\n",
              "      <td>171.2</td>\n",
              "      <td>154</td>\n",
              "      <td>19</td>\n",
              "    </tr>\n",
              "    <tr>\n",
              "      <th>3</th>\n",
              "      <td>99.8</td>\n",
              "      <td>176.6</td>\n",
              "      <td>102</td>\n",
              "      <td>24</td>\n",
              "    </tr>\n",
              "    <tr>\n",
              "      <th>4</th>\n",
              "      <td>99.4</td>\n",
              "      <td>176.6</td>\n",
              "      <td>115</td>\n",
              "      <td>18</td>\n",
              "    </tr>\n",
              "  </tbody>\n",
              "</table>\n",
              "</div>"
            ],
            "text/plain": [
              "   wheel-base  length  horsepower  average-mileage\n",
              "0        88.6   168.8         111               21\n",
              "1        88.6   168.8         111               21\n",
              "2        94.5   171.2         154               19\n",
              "3        99.8   176.6         102               24\n",
              "4        99.4   176.6         115               18"
            ]
          },
          "metadata": {
            "tags": []
          },
          "execution_count": 91
        }
      ]
    },
    {
      "cell_type": "code",
      "metadata": {
        "id": "EVbBw-ufDFUj",
        "colab_type": "code",
        "colab": {}
      },
      "source": [
        "df_new=df_new.applymap(lambda x:x*4)            #multiplying every element by 4."
      ],
      "execution_count": 0,
      "outputs": []
    },
    {
      "cell_type": "code",
      "metadata": {
        "id": "yzipecvzDFUo",
        "colab_type": "code",
        "outputId": "7decbb27-c747-4ae1-94de-884c78f1b179",
        "colab": {}
      },
      "source": [
        "df_new.head()"
      ],
      "execution_count": 0,
      "outputs": [
        {
          "output_type": "execute_result",
          "data": {
            "text/html": [
              "<div>\n",
              "<style scoped>\n",
              "    .dataframe tbody tr th:only-of-type {\n",
              "        vertical-align: middle;\n",
              "    }\n",
              "\n",
              "    .dataframe tbody tr th {\n",
              "        vertical-align: top;\n",
              "    }\n",
              "\n",
              "    .dataframe thead th {\n",
              "        text-align: right;\n",
              "    }\n",
              "</style>\n",
              "<table border=\"1\" class=\"dataframe\">\n",
              "  <thead>\n",
              "    <tr style=\"text-align: right;\">\n",
              "      <th></th>\n",
              "      <th>wheel-base</th>\n",
              "      <th>length</th>\n",
              "      <th>horsepower</th>\n",
              "      <th>average-mileage</th>\n",
              "    </tr>\n",
              "  </thead>\n",
              "  <tbody>\n",
              "    <tr>\n",
              "      <th>0</th>\n",
              "      <td>354.4</td>\n",
              "      <td>675.2</td>\n",
              "      <td>444</td>\n",
              "      <td>84</td>\n",
              "    </tr>\n",
              "    <tr>\n",
              "      <th>1</th>\n",
              "      <td>354.4</td>\n",
              "      <td>675.2</td>\n",
              "      <td>444</td>\n",
              "      <td>84</td>\n",
              "    </tr>\n",
              "    <tr>\n",
              "      <th>2</th>\n",
              "      <td>378.0</td>\n",
              "      <td>684.8</td>\n",
              "      <td>616</td>\n",
              "      <td>76</td>\n",
              "    </tr>\n",
              "    <tr>\n",
              "      <th>3</th>\n",
              "      <td>399.2</td>\n",
              "      <td>706.4</td>\n",
              "      <td>408</td>\n",
              "      <td>96</td>\n",
              "    </tr>\n",
              "    <tr>\n",
              "      <th>4</th>\n",
              "      <td>397.6</td>\n",
              "      <td>706.4</td>\n",
              "      <td>460</td>\n",
              "      <td>72</td>\n",
              "    </tr>\n",
              "  </tbody>\n",
              "</table>\n",
              "</div>"
            ],
            "text/plain": [
              "   wheel-base  length  horsepower  average-mileage\n",
              "0       354.4   675.2         444               84\n",
              "1       354.4   675.2         444               84\n",
              "2       378.0   684.8         616               76\n",
              "3       399.2   706.4         408               96\n",
              "4       397.6   706.4         460               72"
            ]
          },
          "metadata": {
            "tags": []
          },
          "execution_count": 93
        }
      ]
    },
    {
      "cell_type": "code",
      "metadata": {
        "id": "EnnBA8eADFUs",
        "colab_type": "code",
        "outputId": "aed509d9-d9b5-4aa6-94c2-2c9dc0f1f254",
        "colab": {}
      },
      "source": [
        "#tricks to be mastered.(MISC)\n",
        "#1)assign '=' for two dataframes.\n",
        "#2)advantages of using copy\n",
        "#3)Filtering the data using conditions\n",
        "   #->specifying select condition like if and else\n",
        "   #->selecting specific dtypes \n",
        "   #->using value_counts() to get the specific stats \n",
        "#4)Replace specific value with NaN (replace '' with NaN etc..)  \n",
        "#5)check for NaN values in the dataframe\n",
        "#6)Replacingo r filling the NaN(with '0','mean',ffill method)\n",
        "#7)In numerical dataframe get row total and columnn total\n",
        "\n",
        "\n",
        "\n",
        "new_df=df3\n",
        "new_df.head()"
      ],
      "execution_count": 0,
      "outputs": [
        {
          "output_type": "execute_result",
          "data": {
            "text/html": [
              "<div>\n",
              "<style scoped>\n",
              "    .dataframe tbody tr th:only-of-type {\n",
              "        vertical-align: middle;\n",
              "    }\n",
              "\n",
              "    .dataframe tbody tr th {\n",
              "        vertical-align: top;\n",
              "    }\n",
              "\n",
              "    .dataframe thead th {\n",
              "        text-align: right;\n",
              "    }\n",
              "</style>\n",
              "<table border=\"1\" class=\"dataframe\">\n",
              "  <thead>\n",
              "    <tr style=\"text-align: right;\">\n",
              "      <th></th>\n",
              "      <th>index</th>\n",
              "      <th>company</th>\n",
              "      <th>body-style</th>\n",
              "      <th>wheel-base</th>\n",
              "      <th>length</th>\n",
              "      <th>engine-type</th>\n",
              "      <th>num-of-cylinders</th>\n",
              "      <th>horsepower</th>\n",
              "      <th>average-mileage</th>\n",
              "      <th>price</th>\n",
              "    </tr>\n",
              "  </thead>\n",
              "  <tbody>\n",
              "    <tr>\n",
              "      <th>3</th>\n",
              "      <td>3</td>\n",
              "      <td>audi</td>\n",
              "      <td>sedan</td>\n",
              "      <td>99.8</td>\n",
              "      <td>176.6</td>\n",
              "      <td>ohc</td>\n",
              "      <td>four</td>\n",
              "      <td>102</td>\n",
              "      <td>24</td>\n",
              "      <td>13950.0</td>\n",
              "    </tr>\n",
              "    <tr>\n",
              "      <th>4</th>\n",
              "      <td>4</td>\n",
              "      <td>audi</td>\n",
              "      <td>sedan</td>\n",
              "      <td>99.4</td>\n",
              "      <td>176.6</td>\n",
              "      <td>ohc</td>\n",
              "      <td>five</td>\n",
              "      <td>115</td>\n",
              "      <td>18</td>\n",
              "      <td>17450.0</td>\n",
              "    </tr>\n",
              "    <tr>\n",
              "      <th>5</th>\n",
              "      <td>5</td>\n",
              "      <td>audi</td>\n",
              "      <td>sedan</td>\n",
              "      <td>99.8</td>\n",
              "      <td>177.3</td>\n",
              "      <td>ohc</td>\n",
              "      <td>five</td>\n",
              "      <td>110</td>\n",
              "      <td>19</td>\n",
              "      <td>15250.0</td>\n",
              "    </tr>\n",
              "    <tr>\n",
              "      <th>6</th>\n",
              "      <td>6</td>\n",
              "      <td>audi</td>\n",
              "      <td>wagon</td>\n",
              "      <td>105.8</td>\n",
              "      <td>192.7</td>\n",
              "      <td>ohc</td>\n",
              "      <td>five</td>\n",
              "      <td>110</td>\n",
              "      <td>19</td>\n",
              "      <td>18920.0</td>\n",
              "    </tr>\n",
              "    <tr>\n",
              "      <th>7</th>\n",
              "      <td>9</td>\n",
              "      <td>bmw</td>\n",
              "      <td>sedan</td>\n",
              "      <td>101.2</td>\n",
              "      <td>176.8</td>\n",
              "      <td>ohc</td>\n",
              "      <td>four</td>\n",
              "      <td>101</td>\n",
              "      <td>23</td>\n",
              "      <td>16430.0</td>\n",
              "    </tr>\n",
              "  </tbody>\n",
              "</table>\n",
              "</div>"
            ],
            "text/plain": [
              "   index company body-style  wheel-base  length engine-type num-of-cylinders  \\\n",
              "3      3    audi      sedan        99.8   176.6         ohc             four   \n",
              "4      4    audi      sedan        99.4   176.6         ohc             five   \n",
              "5      5    audi      sedan        99.8   177.3         ohc             five   \n",
              "6      6    audi      wagon       105.8   192.7         ohc             five   \n",
              "7      9     bmw      sedan       101.2   176.8         ohc             four   \n",
              "\n",
              "   horsepower  average-mileage    price  \n",
              "3         102               24  13950.0  \n",
              "4         115               18  17450.0  \n",
              "5         110               19  15250.0  \n",
              "6         110               19  18920.0  \n",
              "7         101               23  16430.0  "
            ]
          },
          "metadata": {
            "tags": []
          },
          "execution_count": 94
        }
      ]
    },
    {
      "cell_type": "code",
      "metadata": {
        "id": "ieRJOALcDFU0",
        "colab_type": "code",
        "outputId": "6e025e59-487a-46b2-83be-1f072e87cc4b",
        "colab": {}
      },
      "source": [
        "new_df['horsepower(inKw)']=\"\"\n",
        "new_df['horsepower(inKw)']=new_df['horsepower'].apply(converttokW)"
      ],
      "execution_count": 0,
      "outputs": [
        {
          "output_type": "stream",
          "text": [
            "C:\\ProgramData\\Anaconda3\\envs\\py36\\lib\\site-packages\\ipykernel_launcher.py:1: SettingWithCopyWarning: \n",
            "A value is trying to be set on a copy of a slice from a DataFrame.\n",
            "Try using .loc[row_indexer,col_indexer] = value instead\n",
            "\n",
            "See the caveats in the documentation: http://pandas.pydata.org/pandas-docs/stable/indexing.html#indexing-view-versus-copy\n",
            "  \"\"\"Entry point for launching an IPython kernel.\n",
            "C:\\ProgramData\\Anaconda3\\envs\\py36\\lib\\site-packages\\ipykernel_launcher.py:2: SettingWithCopyWarning: \n",
            "A value is trying to be set on a copy of a slice from a DataFrame.\n",
            "Try using .loc[row_indexer,col_indexer] = value instead\n",
            "\n",
            "See the caveats in the documentation: http://pandas.pydata.org/pandas-docs/stable/indexing.html#indexing-view-versus-copy\n",
            "  \n"
          ],
          "name": "stderr"
        }
      ]
    },
    {
      "cell_type": "code",
      "metadata": {
        "id": "ZZI3IXOQDFU6",
        "colab_type": "code",
        "outputId": "5d22a115-c611-4c5c-ddaa-e684698a989d",
        "colab": {}
      },
      "source": [
        "new_df.head()"
      ],
      "execution_count": 0,
      "outputs": [
        {
          "output_type": "execute_result",
          "data": {
            "text/html": [
              "<div>\n",
              "<style scoped>\n",
              "    .dataframe tbody tr th:only-of-type {\n",
              "        vertical-align: middle;\n",
              "    }\n",
              "\n",
              "    .dataframe tbody tr th {\n",
              "        vertical-align: top;\n",
              "    }\n",
              "\n",
              "    .dataframe thead th {\n",
              "        text-align: right;\n",
              "    }\n",
              "</style>\n",
              "<table border=\"1\" class=\"dataframe\">\n",
              "  <thead>\n",
              "    <tr style=\"text-align: right;\">\n",
              "      <th></th>\n",
              "      <th>index</th>\n",
              "      <th>company</th>\n",
              "      <th>body-style</th>\n",
              "      <th>wheel-base</th>\n",
              "      <th>length</th>\n",
              "      <th>engine-type</th>\n",
              "      <th>num-of-cylinders</th>\n",
              "      <th>horsepower</th>\n",
              "      <th>average-mileage</th>\n",
              "      <th>price</th>\n",
              "      <th>horsepower(inKw)</th>\n",
              "    </tr>\n",
              "  </thead>\n",
              "  <tbody>\n",
              "    <tr>\n",
              "      <th>3</th>\n",
              "      <td>3</td>\n",
              "      <td>audi</td>\n",
              "      <td>sedan</td>\n",
              "      <td>99.8</td>\n",
              "      <td>176.6</td>\n",
              "      <td>ohc</td>\n",
              "      <td>four</td>\n",
              "      <td>102</td>\n",
              "      <td>24</td>\n",
              "      <td>13950.0</td>\n",
              "      <td>75.990</td>\n",
              "    </tr>\n",
              "    <tr>\n",
              "      <th>4</th>\n",
              "      <td>4</td>\n",
              "      <td>audi</td>\n",
              "      <td>sedan</td>\n",
              "      <td>99.4</td>\n",
              "      <td>176.6</td>\n",
              "      <td>ohc</td>\n",
              "      <td>five</td>\n",
              "      <td>115</td>\n",
              "      <td>18</td>\n",
              "      <td>17450.0</td>\n",
              "      <td>85.675</td>\n",
              "    </tr>\n",
              "    <tr>\n",
              "      <th>5</th>\n",
              "      <td>5</td>\n",
              "      <td>audi</td>\n",
              "      <td>sedan</td>\n",
              "      <td>99.8</td>\n",
              "      <td>177.3</td>\n",
              "      <td>ohc</td>\n",
              "      <td>five</td>\n",
              "      <td>110</td>\n",
              "      <td>19</td>\n",
              "      <td>15250.0</td>\n",
              "      <td>81.950</td>\n",
              "    </tr>\n",
              "    <tr>\n",
              "      <th>6</th>\n",
              "      <td>6</td>\n",
              "      <td>audi</td>\n",
              "      <td>wagon</td>\n",
              "      <td>105.8</td>\n",
              "      <td>192.7</td>\n",
              "      <td>ohc</td>\n",
              "      <td>five</td>\n",
              "      <td>110</td>\n",
              "      <td>19</td>\n",
              "      <td>18920.0</td>\n",
              "      <td>81.950</td>\n",
              "    </tr>\n",
              "    <tr>\n",
              "      <th>7</th>\n",
              "      <td>9</td>\n",
              "      <td>bmw</td>\n",
              "      <td>sedan</td>\n",
              "      <td>101.2</td>\n",
              "      <td>176.8</td>\n",
              "      <td>ohc</td>\n",
              "      <td>four</td>\n",
              "      <td>101</td>\n",
              "      <td>23</td>\n",
              "      <td>16430.0</td>\n",
              "      <td>75.245</td>\n",
              "    </tr>\n",
              "  </tbody>\n",
              "</table>\n",
              "</div>"
            ],
            "text/plain": [
              "   index company body-style  wheel-base  length engine-type num-of-cylinders  \\\n",
              "3      3    audi      sedan        99.8   176.6         ohc             four   \n",
              "4      4    audi      sedan        99.4   176.6         ohc             five   \n",
              "5      5    audi      sedan        99.8   177.3         ohc             five   \n",
              "6      6    audi      wagon       105.8   192.7         ohc             five   \n",
              "7      9     bmw      sedan       101.2   176.8         ohc             four   \n",
              "\n",
              "   horsepower  average-mileage    price  horsepower(inKw)  \n",
              "3         102               24  13950.0            75.990  \n",
              "4         115               18  17450.0            85.675  \n",
              "5         110               19  15250.0            81.950  \n",
              "6         110               19  18920.0            81.950  \n",
              "7         101               23  16430.0            75.245  "
            ]
          },
          "metadata": {
            "tags": []
          },
          "execution_count": 96
        }
      ]
    },
    {
      "cell_type": "code",
      "metadata": {
        "id": "OJ4g1yJHDFU9",
        "colab_type": "code",
        "outputId": "eb370135-6ca9-4cdb-bdda-9c0252359101",
        "colab": {}
      },
      "source": [
        "df3.head()"
      ],
      "execution_count": 0,
      "outputs": [
        {
          "output_type": "execute_result",
          "data": {
            "text/html": [
              "<div>\n",
              "<style scoped>\n",
              "    .dataframe tbody tr th:only-of-type {\n",
              "        vertical-align: middle;\n",
              "    }\n",
              "\n",
              "    .dataframe tbody tr th {\n",
              "        vertical-align: top;\n",
              "    }\n",
              "\n",
              "    .dataframe thead th {\n",
              "        text-align: right;\n",
              "    }\n",
              "</style>\n",
              "<table border=\"1\" class=\"dataframe\">\n",
              "  <thead>\n",
              "    <tr style=\"text-align: right;\">\n",
              "      <th></th>\n",
              "      <th>index</th>\n",
              "      <th>company</th>\n",
              "      <th>body-style</th>\n",
              "      <th>wheel-base</th>\n",
              "      <th>length</th>\n",
              "      <th>engine-type</th>\n",
              "      <th>num-of-cylinders</th>\n",
              "      <th>horsepower</th>\n",
              "      <th>average-mileage</th>\n",
              "      <th>price</th>\n",
              "      <th>horsepower(inKw)</th>\n",
              "    </tr>\n",
              "  </thead>\n",
              "  <tbody>\n",
              "    <tr>\n",
              "      <th>3</th>\n",
              "      <td>3</td>\n",
              "      <td>audi</td>\n",
              "      <td>sedan</td>\n",
              "      <td>99.8</td>\n",
              "      <td>176.6</td>\n",
              "      <td>ohc</td>\n",
              "      <td>four</td>\n",
              "      <td>102</td>\n",
              "      <td>24</td>\n",
              "      <td>13950.0</td>\n",
              "      <td>75.990</td>\n",
              "    </tr>\n",
              "    <tr>\n",
              "      <th>4</th>\n",
              "      <td>4</td>\n",
              "      <td>audi</td>\n",
              "      <td>sedan</td>\n",
              "      <td>99.4</td>\n",
              "      <td>176.6</td>\n",
              "      <td>ohc</td>\n",
              "      <td>five</td>\n",
              "      <td>115</td>\n",
              "      <td>18</td>\n",
              "      <td>17450.0</td>\n",
              "      <td>85.675</td>\n",
              "    </tr>\n",
              "    <tr>\n",
              "      <th>5</th>\n",
              "      <td>5</td>\n",
              "      <td>audi</td>\n",
              "      <td>sedan</td>\n",
              "      <td>99.8</td>\n",
              "      <td>177.3</td>\n",
              "      <td>ohc</td>\n",
              "      <td>five</td>\n",
              "      <td>110</td>\n",
              "      <td>19</td>\n",
              "      <td>15250.0</td>\n",
              "      <td>81.950</td>\n",
              "    </tr>\n",
              "    <tr>\n",
              "      <th>6</th>\n",
              "      <td>6</td>\n",
              "      <td>audi</td>\n",
              "      <td>wagon</td>\n",
              "      <td>105.8</td>\n",
              "      <td>192.7</td>\n",
              "      <td>ohc</td>\n",
              "      <td>five</td>\n",
              "      <td>110</td>\n",
              "      <td>19</td>\n",
              "      <td>18920.0</td>\n",
              "      <td>81.950</td>\n",
              "    </tr>\n",
              "    <tr>\n",
              "      <th>7</th>\n",
              "      <td>9</td>\n",
              "      <td>bmw</td>\n",
              "      <td>sedan</td>\n",
              "      <td>101.2</td>\n",
              "      <td>176.8</td>\n",
              "      <td>ohc</td>\n",
              "      <td>four</td>\n",
              "      <td>101</td>\n",
              "      <td>23</td>\n",
              "      <td>16430.0</td>\n",
              "      <td>75.245</td>\n",
              "    </tr>\n",
              "  </tbody>\n",
              "</table>\n",
              "</div>"
            ],
            "text/plain": [
              "   index company body-style  wheel-base  length engine-type num-of-cylinders  \\\n",
              "3      3    audi      sedan        99.8   176.6         ohc             four   \n",
              "4      4    audi      sedan        99.4   176.6         ohc             five   \n",
              "5      5    audi      sedan        99.8   177.3         ohc             five   \n",
              "6      6    audi      wagon       105.8   192.7         ohc             five   \n",
              "7      9     bmw      sedan       101.2   176.8         ohc             four   \n",
              "\n",
              "   horsepower  average-mileage    price  horsepower(inKw)  \n",
              "3         102               24  13950.0            75.990  \n",
              "4         115               18  17450.0            85.675  \n",
              "5         110               19  15250.0            81.950  \n",
              "6         110               19  18920.0            81.950  \n",
              "7         101               23  16430.0            75.245  "
            ]
          },
          "metadata": {
            "tags": []
          },
          "execution_count": 97
        }
      ]
    },
    {
      "cell_type": "code",
      "metadata": {
        "id": "ynkysGUYDFVC",
        "colab_type": "code",
        "colab": {}
      },
      "source": [
        "#Notice that the above two dataframe are same ie they are assigned equal.changes are reflected in both dataframes if changes in anyone.\n",
        "#TO over come this problem use can use \"COPY\"\n",
        "new_df=df3.copy()\n",
        "new_df['horsepower_new(inKw)']=new_df['horsepower'].apply(converttokW)"
      ],
      "execution_count": 0,
      "outputs": []
    },
    {
      "cell_type": "code",
      "metadata": {
        "id": "HRnsJSL8DFVI",
        "colab_type": "code",
        "outputId": "3b490c6f-0cd8-4c41-e1de-27385d98f196",
        "colab": {}
      },
      "source": [
        "new_df.head()"
      ],
      "execution_count": 0,
      "outputs": [
        {
          "output_type": "execute_result",
          "data": {
            "text/html": [
              "<div>\n",
              "<style scoped>\n",
              "    .dataframe tbody tr th:only-of-type {\n",
              "        vertical-align: middle;\n",
              "    }\n",
              "\n",
              "    .dataframe tbody tr th {\n",
              "        vertical-align: top;\n",
              "    }\n",
              "\n",
              "    .dataframe thead th {\n",
              "        text-align: right;\n",
              "    }\n",
              "</style>\n",
              "<table border=\"1\" class=\"dataframe\">\n",
              "  <thead>\n",
              "    <tr style=\"text-align: right;\">\n",
              "      <th></th>\n",
              "      <th>index</th>\n",
              "      <th>company</th>\n",
              "      <th>body-style</th>\n",
              "      <th>wheel-base</th>\n",
              "      <th>length</th>\n",
              "      <th>engine-type</th>\n",
              "      <th>num-of-cylinders</th>\n",
              "      <th>horsepower</th>\n",
              "      <th>average-mileage</th>\n",
              "      <th>price</th>\n",
              "      <th>horsepower(inKw)</th>\n",
              "      <th>horsepower_new(inKw)</th>\n",
              "    </tr>\n",
              "  </thead>\n",
              "  <tbody>\n",
              "    <tr>\n",
              "      <th>3</th>\n",
              "      <td>3</td>\n",
              "      <td>audi</td>\n",
              "      <td>sedan</td>\n",
              "      <td>99.8</td>\n",
              "      <td>176.6</td>\n",
              "      <td>ohc</td>\n",
              "      <td>four</td>\n",
              "      <td>102</td>\n",
              "      <td>24</td>\n",
              "      <td>13950.0</td>\n",
              "      <td>75.990</td>\n",
              "      <td>75.990</td>\n",
              "    </tr>\n",
              "    <tr>\n",
              "      <th>4</th>\n",
              "      <td>4</td>\n",
              "      <td>audi</td>\n",
              "      <td>sedan</td>\n",
              "      <td>99.4</td>\n",
              "      <td>176.6</td>\n",
              "      <td>ohc</td>\n",
              "      <td>five</td>\n",
              "      <td>115</td>\n",
              "      <td>18</td>\n",
              "      <td>17450.0</td>\n",
              "      <td>85.675</td>\n",
              "      <td>85.675</td>\n",
              "    </tr>\n",
              "    <tr>\n",
              "      <th>5</th>\n",
              "      <td>5</td>\n",
              "      <td>audi</td>\n",
              "      <td>sedan</td>\n",
              "      <td>99.8</td>\n",
              "      <td>177.3</td>\n",
              "      <td>ohc</td>\n",
              "      <td>five</td>\n",
              "      <td>110</td>\n",
              "      <td>19</td>\n",
              "      <td>15250.0</td>\n",
              "      <td>81.950</td>\n",
              "      <td>81.950</td>\n",
              "    </tr>\n",
              "    <tr>\n",
              "      <th>6</th>\n",
              "      <td>6</td>\n",
              "      <td>audi</td>\n",
              "      <td>wagon</td>\n",
              "      <td>105.8</td>\n",
              "      <td>192.7</td>\n",
              "      <td>ohc</td>\n",
              "      <td>five</td>\n",
              "      <td>110</td>\n",
              "      <td>19</td>\n",
              "      <td>18920.0</td>\n",
              "      <td>81.950</td>\n",
              "      <td>81.950</td>\n",
              "    </tr>\n",
              "    <tr>\n",
              "      <th>7</th>\n",
              "      <td>9</td>\n",
              "      <td>bmw</td>\n",
              "      <td>sedan</td>\n",
              "      <td>101.2</td>\n",
              "      <td>176.8</td>\n",
              "      <td>ohc</td>\n",
              "      <td>four</td>\n",
              "      <td>101</td>\n",
              "      <td>23</td>\n",
              "      <td>16430.0</td>\n",
              "      <td>75.245</td>\n",
              "      <td>75.245</td>\n",
              "    </tr>\n",
              "  </tbody>\n",
              "</table>\n",
              "</div>"
            ],
            "text/plain": [
              "   index company body-style  wheel-base  length engine-type num-of-cylinders  \\\n",
              "3      3    audi      sedan        99.8   176.6         ohc             four   \n",
              "4      4    audi      sedan        99.4   176.6         ohc             five   \n",
              "5      5    audi      sedan        99.8   177.3         ohc             five   \n",
              "6      6    audi      wagon       105.8   192.7         ohc             five   \n",
              "7      9     bmw      sedan       101.2   176.8         ohc             four   \n",
              "\n",
              "   horsepower  average-mileage    price  horsepower(inKw)  \\\n",
              "3         102               24  13950.0            75.990   \n",
              "4         115               18  17450.0            85.675   \n",
              "5         110               19  15250.0            81.950   \n",
              "6         110               19  18920.0            81.950   \n",
              "7         101               23  16430.0            75.245   \n",
              "\n",
              "   horsepower_new(inKw)  \n",
              "3                75.990  \n",
              "4                85.675  \n",
              "5                81.950  \n",
              "6                81.950  \n",
              "7                75.245  "
            ]
          },
          "metadata": {
            "tags": []
          },
          "execution_count": 99
        }
      ]
    },
    {
      "cell_type": "code",
      "metadata": {
        "id": "pQ7Ap0w0DFVK",
        "colab_type": "code",
        "outputId": "91ffb2af-5f2c-412e-a58b-a19df27271b1",
        "colab": {}
      },
      "source": [
        "df3.head()    #if observed the horsepower_new is not present in this as this has been copied and we worked on that copy without affecting the original dataframe"
      ],
      "execution_count": 0,
      "outputs": [
        {
          "output_type": "execute_result",
          "data": {
            "text/html": [
              "<div>\n",
              "<style scoped>\n",
              "    .dataframe tbody tr th:only-of-type {\n",
              "        vertical-align: middle;\n",
              "    }\n",
              "\n",
              "    .dataframe tbody tr th {\n",
              "        vertical-align: top;\n",
              "    }\n",
              "\n",
              "    .dataframe thead th {\n",
              "        text-align: right;\n",
              "    }\n",
              "</style>\n",
              "<table border=\"1\" class=\"dataframe\">\n",
              "  <thead>\n",
              "    <tr style=\"text-align: right;\">\n",
              "      <th></th>\n",
              "      <th>index</th>\n",
              "      <th>company</th>\n",
              "      <th>body-style</th>\n",
              "      <th>wheel-base</th>\n",
              "      <th>length</th>\n",
              "      <th>engine-type</th>\n",
              "      <th>num-of-cylinders</th>\n",
              "      <th>horsepower</th>\n",
              "      <th>average-mileage</th>\n",
              "      <th>price</th>\n",
              "      <th>horsepower(inKw)</th>\n",
              "    </tr>\n",
              "  </thead>\n",
              "  <tbody>\n",
              "    <tr>\n",
              "      <th>3</th>\n",
              "      <td>3</td>\n",
              "      <td>audi</td>\n",
              "      <td>sedan</td>\n",
              "      <td>99.8</td>\n",
              "      <td>176.6</td>\n",
              "      <td>ohc</td>\n",
              "      <td>four</td>\n",
              "      <td>102</td>\n",
              "      <td>24</td>\n",
              "      <td>13950.0</td>\n",
              "      <td>75.990</td>\n",
              "    </tr>\n",
              "    <tr>\n",
              "      <th>4</th>\n",
              "      <td>4</td>\n",
              "      <td>audi</td>\n",
              "      <td>sedan</td>\n",
              "      <td>99.4</td>\n",
              "      <td>176.6</td>\n",
              "      <td>ohc</td>\n",
              "      <td>five</td>\n",
              "      <td>115</td>\n",
              "      <td>18</td>\n",
              "      <td>17450.0</td>\n",
              "      <td>85.675</td>\n",
              "    </tr>\n",
              "    <tr>\n",
              "      <th>5</th>\n",
              "      <td>5</td>\n",
              "      <td>audi</td>\n",
              "      <td>sedan</td>\n",
              "      <td>99.8</td>\n",
              "      <td>177.3</td>\n",
              "      <td>ohc</td>\n",
              "      <td>five</td>\n",
              "      <td>110</td>\n",
              "      <td>19</td>\n",
              "      <td>15250.0</td>\n",
              "      <td>81.950</td>\n",
              "    </tr>\n",
              "    <tr>\n",
              "      <th>6</th>\n",
              "      <td>6</td>\n",
              "      <td>audi</td>\n",
              "      <td>wagon</td>\n",
              "      <td>105.8</td>\n",
              "      <td>192.7</td>\n",
              "      <td>ohc</td>\n",
              "      <td>five</td>\n",
              "      <td>110</td>\n",
              "      <td>19</td>\n",
              "      <td>18920.0</td>\n",
              "      <td>81.950</td>\n",
              "    </tr>\n",
              "    <tr>\n",
              "      <th>7</th>\n",
              "      <td>9</td>\n",
              "      <td>bmw</td>\n",
              "      <td>sedan</td>\n",
              "      <td>101.2</td>\n",
              "      <td>176.8</td>\n",
              "      <td>ohc</td>\n",
              "      <td>four</td>\n",
              "      <td>101</td>\n",
              "      <td>23</td>\n",
              "      <td>16430.0</td>\n",
              "      <td>75.245</td>\n",
              "    </tr>\n",
              "  </tbody>\n",
              "</table>\n",
              "</div>"
            ],
            "text/plain": [
              "   index company body-style  wheel-base  length engine-type num-of-cylinders  \\\n",
              "3      3    audi      sedan        99.8   176.6         ohc             four   \n",
              "4      4    audi      sedan        99.4   176.6         ohc             five   \n",
              "5      5    audi      sedan        99.8   177.3         ohc             five   \n",
              "6      6    audi      wagon       105.8   192.7         ohc             five   \n",
              "7      9     bmw      sedan       101.2   176.8         ohc             four   \n",
              "\n",
              "   horsepower  average-mileage    price  horsepower(inKw)  \n",
              "3         102               24  13950.0            75.990  \n",
              "4         115               18  17450.0            85.675  \n",
              "5         110               19  15250.0            81.950  \n",
              "6         110               19  18920.0            81.950  \n",
              "7         101               23  16430.0            75.245  "
            ]
          },
          "metadata": {
            "tags": []
          },
          "execution_count": 100
        }
      ]
    },
    {
      "cell_type": "code",
      "metadata": {
        "id": "Ht3bkJ7tDFVM",
        "colab_type": "code",
        "colab": {}
      },
      "source": [
        "#Filter the dataframe using conditions\n",
        "df_filtered=df[df['body-style']=='wagon']   ### here we filtered the datafranme to get "
      ],
      "execution_count": 0,
      "outputs": []
    },
    {
      "cell_type": "code",
      "metadata": {
        "id": "hLfq5EAtDFVO",
        "colab_type": "code",
        "outputId": "18014f8c-a6c4-4ba5-dabf-2a9ef60dfa25",
        "colab": {}
      },
      "source": [
        "df_filtered.head()   "
      ],
      "execution_count": 0,
      "outputs": [
        {
          "output_type": "execute_result",
          "data": {
            "text/html": [
              "<div>\n",
              "<style scoped>\n",
              "    .dataframe tbody tr th:only-of-type {\n",
              "        vertical-align: middle;\n",
              "    }\n",
              "\n",
              "    .dataframe tbody tr th {\n",
              "        vertical-align: top;\n",
              "    }\n",
              "\n",
              "    .dataframe thead th {\n",
              "        text-align: right;\n",
              "    }\n",
              "</style>\n",
              "<table border=\"1\" class=\"dataframe\">\n",
              "  <thead>\n",
              "    <tr style=\"text-align: right;\">\n",
              "      <th></th>\n",
              "      <th>index</th>\n",
              "      <th>company</th>\n",
              "      <th>body-style</th>\n",
              "      <th>wheel-base</th>\n",
              "      <th>length</th>\n",
              "      <th>engine-type</th>\n",
              "      <th>num-of-cylinders</th>\n",
              "      <th>horsepower</th>\n",
              "      <th>average-mileage</th>\n",
              "      <th>price</th>\n",
              "      <th>good milege?</th>\n",
              "      <th>horsepower(kW)</th>\n",
              "    </tr>\n",
              "  </thead>\n",
              "  <tbody>\n",
              "    <tr>\n",
              "      <th>6</th>\n",
              "      <td>6</td>\n",
              "      <td>audi</td>\n",
              "      <td>wagon</td>\n",
              "      <td>105.8</td>\n",
              "      <td>192.7</td>\n",
              "      <td>ohc</td>\n",
              "      <td>five</td>\n",
              "      <td>110</td>\n",
              "      <td>19</td>\n",
              "      <td>18920.0</td>\n",
              "      <td>no</td>\n",
              "      <td>81.950</td>\n",
              "    </tr>\n",
              "    <tr>\n",
              "      <th>18</th>\n",
              "      <td>27</td>\n",
              "      <td>honda</td>\n",
              "      <td>wagon</td>\n",
              "      <td>96.5</td>\n",
              "      <td>157.1</td>\n",
              "      <td>ohc</td>\n",
              "      <td>four</td>\n",
              "      <td>76</td>\n",
              "      <td>30</td>\n",
              "      <td>7295.0</td>\n",
              "      <td>yes</td>\n",
              "      <td>56.620</td>\n",
              "    </tr>\n",
              "    <tr>\n",
              "      <th>33</th>\n",
              "      <td>45</td>\n",
              "      <td>mercedes-benz</td>\n",
              "      <td>wagon</td>\n",
              "      <td>110.0</td>\n",
              "      <td>190.9</td>\n",
              "      <td>ohc</td>\n",
              "      <td>five</td>\n",
              "      <td>123</td>\n",
              "      <td>22</td>\n",
              "      <td>28248.0</td>\n",
              "      <td>yes</td>\n",
              "      <td>91.635</td>\n",
              "    </tr>\n",
              "    <tr>\n",
              "      <th>43</th>\n",
              "      <td>56</td>\n",
              "      <td>nissan</td>\n",
              "      <td>wagon</td>\n",
              "      <td>94.5</td>\n",
              "      <td>170.2</td>\n",
              "      <td>ohc</td>\n",
              "      <td>four</td>\n",
              "      <td>69</td>\n",
              "      <td>31</td>\n",
              "      <td>7349.0</td>\n",
              "      <td>yes</td>\n",
              "      <td>51.405</td>\n",
              "    </tr>\n",
              "    <tr>\n",
              "      <th>51</th>\n",
              "      <td>69</td>\n",
              "      <td>toyota</td>\n",
              "      <td>wagon</td>\n",
              "      <td>95.7</td>\n",
              "      <td>169.7</td>\n",
              "      <td>ohc</td>\n",
              "      <td>four</td>\n",
              "      <td>62</td>\n",
              "      <td>31</td>\n",
              "      <td>6918.0</td>\n",
              "      <td>yes</td>\n",
              "      <td>46.190</td>\n",
              "    </tr>\n",
              "  </tbody>\n",
              "</table>\n",
              "</div>"
            ],
            "text/plain": [
              "    index        company body-style  wheel-base  length engine-type  \\\n",
              "6       6           audi      wagon       105.8   192.7         ohc   \n",
              "18     27          honda      wagon        96.5   157.1         ohc   \n",
              "33     45  mercedes-benz      wagon       110.0   190.9         ohc   \n",
              "43     56         nissan      wagon        94.5   170.2         ohc   \n",
              "51     69         toyota      wagon        95.7   169.7         ohc   \n",
              "\n",
              "   num-of-cylinders  horsepower  average-mileage    price good milege?  \\\n",
              "6              five         110               19  18920.0           no   \n",
              "18             four          76               30   7295.0          yes   \n",
              "33             five         123               22  28248.0          yes   \n",
              "43             four          69               31   7349.0          yes   \n",
              "51             four          62               31   6918.0          yes   \n",
              "\n",
              "    horsepower(kW)  \n",
              "6           81.950  \n",
              "18          56.620  \n",
              "33          91.635  \n",
              "43          51.405  \n",
              "51          46.190  "
            ]
          },
          "metadata": {
            "tags": []
          },
          "execution_count": 102
        }
      ]
    },
    {
      "cell_type": "code",
      "metadata": {
        "id": "Tum91YhfDFVR",
        "colab_type": "code",
        "outputId": "dc693094-a97d-43e2-daf7-4f6b30484b91",
        "colab": {}
      },
      "source": [
        "#TO know different types and count of data that is present in dataframe \n",
        "df.dtypes.value_counts()"
      ],
      "execution_count": 0,
      "outputs": [
        {
          "output_type": "execute_result",
          "data": {
            "text/plain": [
              "object     5\n",
              "float64    4\n",
              "int64      3\n",
              "dtype: int64"
            ]
          },
          "metadata": {
            "tags": []
          },
          "execution_count": 103
        }
      ]
    },
    {
      "cell_type": "code",
      "metadata": {
        "scrolled": true,
        "id": "HN6tyM1YDFVT",
        "colab_type": "code",
        "outputId": "f7c5b095-2245-459a-bdc9-65ed5cfe05d0",
        "colab": {}
      },
      "source": [
        "#to show the stats sorted by distinct values in the column 'company'\n",
        "df['company'].value_counts().reset_index().sort_values(by='index')"
      ],
      "execution_count": 0,
      "outputs": [
        {
          "output_type": "execute_result",
          "data": {
            "text/html": [
              "<div>\n",
              "<style scoped>\n",
              "    .dataframe tbody tr th:only-of-type {\n",
              "        vertical-align: middle;\n",
              "    }\n",
              "\n",
              "    .dataframe tbody tr th {\n",
              "        vertical-align: top;\n",
              "    }\n",
              "\n",
              "    .dataframe thead th {\n",
              "        text-align: right;\n",
              "    }\n",
              "</style>\n",
              "<table border=\"1\" class=\"dataframe\">\n",
              "  <thead>\n",
              "    <tr style=\"text-align: right;\">\n",
              "      <th></th>\n",
              "      <th>index</th>\n",
              "      <th>company</th>\n",
              "    </tr>\n",
              "  </thead>\n",
              "  <tbody>\n",
              "    <tr>\n",
              "      <th>10</th>\n",
              "      <td>alfa-romero</td>\n",
              "      <td>3</td>\n",
              "    </tr>\n",
              "    <tr>\n",
              "      <th>7</th>\n",
              "      <td>audi</td>\n",
              "      <td>4</td>\n",
              "    </tr>\n",
              "    <tr>\n",
              "      <th>1</th>\n",
              "      <td>bmw</td>\n",
              "      <td>6</td>\n",
              "    </tr>\n",
              "    <tr>\n",
              "      <th>13</th>\n",
              "      <td>chevrolet</td>\n",
              "      <td>3</td>\n",
              "    </tr>\n",
              "    <tr>\n",
              "      <th>14</th>\n",
              "      <td>dodge</td>\n",
              "      <td>2</td>\n",
              "    </tr>\n",
              "    <tr>\n",
              "      <th>9</th>\n",
              "      <td>honda</td>\n",
              "      <td>3</td>\n",
              "    </tr>\n",
              "    <tr>\n",
              "      <th>12</th>\n",
              "      <td>isuzu</td>\n",
              "      <td>3</td>\n",
              "    </tr>\n",
              "    <tr>\n",
              "      <th>11</th>\n",
              "      <td>jaguar</td>\n",
              "      <td>3</td>\n",
              "    </tr>\n",
              "    <tr>\n",
              "      <th>2</th>\n",
              "      <td>mazda</td>\n",
              "      <td>5</td>\n",
              "    </tr>\n",
              "    <tr>\n",
              "      <th>5</th>\n",
              "      <td>mercedes-benz</td>\n",
              "      <td>4</td>\n",
              "    </tr>\n",
              "    <tr>\n",
              "      <th>4</th>\n",
              "      <td>mitsubishi</td>\n",
              "      <td>4</td>\n",
              "    </tr>\n",
              "    <tr>\n",
              "      <th>3</th>\n",
              "      <td>nissan</td>\n",
              "      <td>5</td>\n",
              "    </tr>\n",
              "    <tr>\n",
              "      <th>8</th>\n",
              "      <td>porsche</td>\n",
              "      <td>3</td>\n",
              "    </tr>\n",
              "    <tr>\n",
              "      <th>0</th>\n",
              "      <td>toyota</td>\n",
              "      <td>7</td>\n",
              "    </tr>\n",
              "    <tr>\n",
              "      <th>6</th>\n",
              "      <td>volkswagen</td>\n",
              "      <td>4</td>\n",
              "    </tr>\n",
              "    <tr>\n",
              "      <th>15</th>\n",
              "      <td>volvo</td>\n",
              "      <td>2</td>\n",
              "    </tr>\n",
              "  </tbody>\n",
              "</table>\n",
              "</div>"
            ],
            "text/plain": [
              "            index  company\n",
              "10    alfa-romero        3\n",
              "7            audi        4\n",
              "1             bmw        6\n",
              "13      chevrolet        3\n",
              "14          dodge        2\n",
              "9           honda        3\n",
              "12          isuzu        3\n",
              "11         jaguar        3\n",
              "2           mazda        5\n",
              "5   mercedes-benz        4\n",
              "4      mitsubishi        4\n",
              "3          nissan        5\n",
              "8         porsche        3\n",
              "0          toyota        7\n",
              "6      volkswagen        4\n",
              "15          volvo        2"
            ]
          },
          "metadata": {
            "tags": []
          },
          "execution_count": 104
        }
      ]
    },
    {
      "cell_type": "code",
      "metadata": {
        "id": "eelq0hiFDFVV",
        "colab_type": "code",
        "outputId": "ce48b6dd-f05b-432c-db36-50306413e19b",
        "colab": {}
      },
      "source": [
        "#A simpler way of the above is shown below\n",
        "df['company'].value_counts().sort_index()"
      ],
      "execution_count": 0,
      "outputs": [
        {
          "output_type": "execute_result",
          "data": {
            "text/plain": [
              "alfa-romero      3\n",
              "audi             4\n",
              "bmw              6\n",
              "chevrolet        3\n",
              "dodge            2\n",
              "honda            3\n",
              "isuzu            3\n",
              "jaguar           3\n",
              "mazda            5\n",
              "mercedes-benz    4\n",
              "mitsubishi       4\n",
              "nissan           5\n",
              "porsche          3\n",
              "toyota           7\n",
              "volkswagen       4\n",
              "volvo            2\n",
              "Name: company, dtype: int64"
            ]
          },
          "metadata": {
            "tags": []
          },
          "execution_count": 105
        }
      ]
    },
    {
      "cell_type": "code",
      "metadata": {
        "id": "BAO1Fd-VDFVX",
        "colab_type": "code",
        "outputId": "f3469f3d-cb2c-4f98-9e29-403c5b9945b5",
        "colab": {}
      },
      "source": [
        "#to filter dataframe to specific datatypes only\n",
        "df_select=df.select_dtypes(include=['int64','float64'])\n",
        "df_select.head()"
      ],
      "execution_count": 0,
      "outputs": [
        {
          "output_type": "execute_result",
          "data": {
            "text/html": [
              "<div>\n",
              "<style scoped>\n",
              "    .dataframe tbody tr th:only-of-type {\n",
              "        vertical-align: middle;\n",
              "    }\n",
              "\n",
              "    .dataframe tbody tr th {\n",
              "        vertical-align: top;\n",
              "    }\n",
              "\n",
              "    .dataframe thead th {\n",
              "        text-align: right;\n",
              "    }\n",
              "</style>\n",
              "<table border=\"1\" class=\"dataframe\">\n",
              "  <thead>\n",
              "    <tr style=\"text-align: right;\">\n",
              "      <th></th>\n",
              "      <th>index</th>\n",
              "      <th>wheel-base</th>\n",
              "      <th>length</th>\n",
              "      <th>horsepower</th>\n",
              "      <th>average-mileage</th>\n",
              "      <th>price</th>\n",
              "      <th>horsepower(kW)</th>\n",
              "    </tr>\n",
              "  </thead>\n",
              "  <tbody>\n",
              "    <tr>\n",
              "      <th>0</th>\n",
              "      <td>0</td>\n",
              "      <td>88.6</td>\n",
              "      <td>168.8</td>\n",
              "      <td>111</td>\n",
              "      <td>21</td>\n",
              "      <td>13495.0</td>\n",
              "      <td>82.695</td>\n",
              "    </tr>\n",
              "    <tr>\n",
              "      <th>1</th>\n",
              "      <td>1</td>\n",
              "      <td>88.6</td>\n",
              "      <td>168.8</td>\n",
              "      <td>111</td>\n",
              "      <td>21</td>\n",
              "      <td>16500.0</td>\n",
              "      <td>82.695</td>\n",
              "    </tr>\n",
              "    <tr>\n",
              "      <th>2</th>\n",
              "      <td>2</td>\n",
              "      <td>94.5</td>\n",
              "      <td>171.2</td>\n",
              "      <td>154</td>\n",
              "      <td>19</td>\n",
              "      <td>16500.0</td>\n",
              "      <td>114.730</td>\n",
              "    </tr>\n",
              "    <tr>\n",
              "      <th>3</th>\n",
              "      <td>3</td>\n",
              "      <td>99.8</td>\n",
              "      <td>176.6</td>\n",
              "      <td>102</td>\n",
              "      <td>24</td>\n",
              "      <td>13950.0</td>\n",
              "      <td>75.990</td>\n",
              "    </tr>\n",
              "    <tr>\n",
              "      <th>4</th>\n",
              "      <td>4</td>\n",
              "      <td>99.4</td>\n",
              "      <td>176.6</td>\n",
              "      <td>115</td>\n",
              "      <td>18</td>\n",
              "      <td>17450.0</td>\n",
              "      <td>85.675</td>\n",
              "    </tr>\n",
              "  </tbody>\n",
              "</table>\n",
              "</div>"
            ],
            "text/plain": [
              "   index  wheel-base  length  horsepower  average-mileage    price  \\\n",
              "0      0        88.6   168.8         111               21  13495.0   \n",
              "1      1        88.6   168.8         111               21  16500.0   \n",
              "2      2        94.5   171.2         154               19  16500.0   \n",
              "3      3        99.8   176.6         102               24  13950.0   \n",
              "4      4        99.4   176.6         115               18  17450.0   \n",
              "\n",
              "   horsepower(kW)  \n",
              "0          82.695  \n",
              "1          82.695  \n",
              "2         114.730  \n",
              "3          75.990  \n",
              "4          85.675  "
            ]
          },
          "metadata": {
            "tags": []
          },
          "execution_count": 106
        }
      ]
    },
    {
      "cell_type": "code",
      "metadata": {
        "id": "MVP57FEFDFVZ",
        "colab_type": "code",
        "colab": {}
      },
      "source": [
        "#replace anyvalue with \" \" just to manipulate the data for the visualizing :-)\\\n",
        "#you can replace anyvalue with any using the below format\n",
        "import numpy as np\n",
        "df_replace=df_select.replace( {111:\" \",102: \" \"})      # because 111 is in int format\n",
        "#if the value to be replaced is string it needed to be in ' '(quotations).\n",
        "#df_replace=df_select.replace( {'hi':\" \",'hello': \" \"})\n"
      ],
      "execution_count": 0,
      "outputs": []
    },
    {
      "cell_type": "code",
      "metadata": {
        "id": "zYbTWLgbDFVd",
        "colab_type": "code",
        "outputId": "8b01ca46-7181-4a7b-cc55-5c20b69c4d30",
        "colab": {}
      },
      "source": [
        "df_replace.head()     #Now you can see the Blank spaces in horsepower.this type of dataset is present in realtime scenarios."
      ],
      "execution_count": 0,
      "outputs": [
        {
          "output_type": "execute_result",
          "data": {
            "text/html": [
              "<div>\n",
              "<style scoped>\n",
              "    .dataframe tbody tr th:only-of-type {\n",
              "        vertical-align: middle;\n",
              "    }\n",
              "\n",
              "    .dataframe tbody tr th {\n",
              "        vertical-align: top;\n",
              "    }\n",
              "\n",
              "    .dataframe thead th {\n",
              "        text-align: right;\n",
              "    }\n",
              "</style>\n",
              "<table border=\"1\" class=\"dataframe\">\n",
              "  <thead>\n",
              "    <tr style=\"text-align: right;\">\n",
              "      <th></th>\n",
              "      <th>index</th>\n",
              "      <th>wheel-base</th>\n",
              "      <th>length</th>\n",
              "      <th>horsepower</th>\n",
              "      <th>average-mileage</th>\n",
              "      <th>price</th>\n",
              "      <th>horsepower(kW)</th>\n",
              "    </tr>\n",
              "  </thead>\n",
              "  <tbody>\n",
              "    <tr>\n",
              "      <th>0</th>\n",
              "      <td>0</td>\n",
              "      <td>88.6</td>\n",
              "      <td>168.8</td>\n",
              "      <td></td>\n",
              "      <td>21</td>\n",
              "      <td>13495</td>\n",
              "      <td>82.695</td>\n",
              "    </tr>\n",
              "    <tr>\n",
              "      <th>1</th>\n",
              "      <td>1</td>\n",
              "      <td>88.6</td>\n",
              "      <td>168.8</td>\n",
              "      <td></td>\n",
              "      <td>21</td>\n",
              "      <td>16500</td>\n",
              "      <td>82.695</td>\n",
              "    </tr>\n",
              "    <tr>\n",
              "      <th>2</th>\n",
              "      <td>2</td>\n",
              "      <td>94.5</td>\n",
              "      <td>171.2</td>\n",
              "      <td>154</td>\n",
              "      <td>19</td>\n",
              "      <td>16500</td>\n",
              "      <td>114.73</td>\n",
              "    </tr>\n",
              "    <tr>\n",
              "      <th>3</th>\n",
              "      <td>3</td>\n",
              "      <td>99.8</td>\n",
              "      <td>176.6</td>\n",
              "      <td></td>\n",
              "      <td>24</td>\n",
              "      <td>13950</td>\n",
              "      <td>75.99</td>\n",
              "    </tr>\n",
              "    <tr>\n",
              "      <th>4</th>\n",
              "      <td>4</td>\n",
              "      <td>99.4</td>\n",
              "      <td>176.6</td>\n",
              "      <td>115</td>\n",
              "      <td>18</td>\n",
              "      <td>17450</td>\n",
              "      <td>85.675</td>\n",
              "    </tr>\n",
              "  </tbody>\n",
              "</table>\n",
              "</div>"
            ],
            "text/plain": [
              "   index wheel-base length horsepower  average-mileage  price horsepower(kW)\n",
              "0      0       88.6  168.8                          21  13495         82.695\n",
              "1      1       88.6  168.8                          21  16500         82.695\n",
              "2      2       94.5  171.2        154               19  16500         114.73\n",
              "3      3       99.8  176.6                          24  13950          75.99\n",
              "4      4       99.4  176.6        115               18  17450         85.675"
            ]
          },
          "metadata": {
            "tags": []
          },
          "execution_count": 108
        }
      ]
    },
    {
      "cell_type": "code",
      "metadata": {
        "id": "ihBrHixkDFVi",
        "colab_type": "code",
        "outputId": "0bb56e5d-a43c-4b99-9b37-7a7d52876123",
        "colab": {}
      },
      "source": [
        "#check for the total \n",
        "df_new=df_replace.copy()\n",
        "df_new = df_new.replace(r'^\\s*$', np.NaN, regex=True)\n",
        "df_new.head()\n"
      ],
      "execution_count": 0,
      "outputs": [
        {
          "output_type": "execute_result",
          "data": {
            "text/html": [
              "<div>\n",
              "<style scoped>\n",
              "    .dataframe tbody tr th:only-of-type {\n",
              "        vertical-align: middle;\n",
              "    }\n",
              "\n",
              "    .dataframe tbody tr th {\n",
              "        vertical-align: top;\n",
              "    }\n",
              "\n",
              "    .dataframe thead th {\n",
              "        text-align: right;\n",
              "    }\n",
              "</style>\n",
              "<table border=\"1\" class=\"dataframe\">\n",
              "  <thead>\n",
              "    <tr style=\"text-align: right;\">\n",
              "      <th></th>\n",
              "      <th>index</th>\n",
              "      <th>wheel-base</th>\n",
              "      <th>length</th>\n",
              "      <th>horsepower</th>\n",
              "      <th>average-mileage</th>\n",
              "      <th>price</th>\n",
              "      <th>horsepower(kW)</th>\n",
              "    </tr>\n",
              "  </thead>\n",
              "  <tbody>\n",
              "    <tr>\n",
              "      <th>0</th>\n",
              "      <td>0</td>\n",
              "      <td>88.6</td>\n",
              "      <td>168.8</td>\n",
              "      <td>NaN</td>\n",
              "      <td>21</td>\n",
              "      <td>13495.0</td>\n",
              "      <td>82.695</td>\n",
              "    </tr>\n",
              "    <tr>\n",
              "      <th>1</th>\n",
              "      <td>1</td>\n",
              "      <td>88.6</td>\n",
              "      <td>168.8</td>\n",
              "      <td>NaN</td>\n",
              "      <td>21</td>\n",
              "      <td>16500.0</td>\n",
              "      <td>82.695</td>\n",
              "    </tr>\n",
              "    <tr>\n",
              "      <th>2</th>\n",
              "      <td>2</td>\n",
              "      <td>94.5</td>\n",
              "      <td>171.2</td>\n",
              "      <td>154.0</td>\n",
              "      <td>19</td>\n",
              "      <td>16500.0</td>\n",
              "      <td>114.730</td>\n",
              "    </tr>\n",
              "    <tr>\n",
              "      <th>3</th>\n",
              "      <td>3</td>\n",
              "      <td>99.8</td>\n",
              "      <td>176.6</td>\n",
              "      <td>NaN</td>\n",
              "      <td>24</td>\n",
              "      <td>13950.0</td>\n",
              "      <td>75.990</td>\n",
              "    </tr>\n",
              "    <tr>\n",
              "      <th>4</th>\n",
              "      <td>4</td>\n",
              "      <td>99.4</td>\n",
              "      <td>176.6</td>\n",
              "      <td>115.0</td>\n",
              "      <td>18</td>\n",
              "      <td>17450.0</td>\n",
              "      <td>85.675</td>\n",
              "    </tr>\n",
              "  </tbody>\n",
              "</table>\n",
              "</div>"
            ],
            "text/plain": [
              "   index  wheel-base  length  horsepower  average-mileage    price  \\\n",
              "0      0        88.6   168.8         NaN               21  13495.0   \n",
              "1      1        88.6   168.8         NaN               21  16500.0   \n",
              "2      2        94.5   171.2       154.0               19  16500.0   \n",
              "3      3        99.8   176.6         NaN               24  13950.0   \n",
              "4      4        99.4   176.6       115.0               18  17450.0   \n",
              "\n",
              "   horsepower(kW)  \n",
              "0          82.695  \n",
              "1          82.695  \n",
              "2         114.730  \n",
              "3          75.990  \n",
              "4          85.675  "
            ]
          },
          "metadata": {
            "tags": []
          },
          "execution_count": 109
        }
      ]
    },
    {
      "cell_type": "code",
      "metadata": {
        "id": "vEftfng5DFVl",
        "colab_type": "code",
        "outputId": "2ead0839-d19d-4092-bbca-d9547832f288",
        "colab": {}
      },
      "source": [
        "print(df_new.isnull().sum())   #so we have 1,3,3 null values in wheelbase,horsepower and price columns respectively."
      ],
      "execution_count": 0,
      "outputs": [
        {
          "output_type": "stream",
          "text": [
            "index              0\n",
            "wheel-base         1\n",
            "length             0\n",
            "horsepower         3\n",
            "average-mileage    0\n",
            "price              3\n",
            "horsepower(kW)     0\n",
            "dtype: int64\n"
          ],
          "name": "stdout"
        }
      ]
    },
    {
      "cell_type": "code",
      "metadata": {
        "id": "rR407EllDFVo",
        "colab_type": "code",
        "outputId": "68f03eaf-44d9-4e5a-8c0f-9e2c08a90a29",
        "colab": {}
      },
      "source": [
        "#Now you can either remove rows with NaN or you can replace those values with any value like 'zero' or \"meanvalue\" of the column according to your dataset.\n",
        "df_new1=df_new.replace(np.nan,0)     #method 1 ie using numpy\n",
        "df_new2=df_new.fillna(0)             #method 2 ie using pandas built in \n",
        "df_new3=df_new.copy()\n",
        "df_new3['horsepower']=df_new['horsepower'].fillna(df_new['horsepower'].mean())\n",
        "#note:You can also apply these methods just to specific columns of your choice\n",
        "print(df_new1.head())\n",
        "print('######')\n",
        "print(df_new3.head())"
      ],
      "execution_count": 0,
      "outputs": [
        {
          "output_type": "stream",
          "text": [
            "   index  wheel-base  length  horsepower  average-mileage    price  \\\n",
            "0      0        88.6   168.8         0.0               21  13495.0   \n",
            "1      1        88.6   168.8         0.0               21  16500.0   \n",
            "2      2        94.5   171.2       154.0               19  16500.0   \n",
            "3      3        99.8   176.6         0.0               24  13950.0   \n",
            "4      4        99.4   176.6       115.0               18  17450.0   \n",
            "\n",
            "   horsepower(kW)  \n",
            "0          82.695  \n",
            "1          82.695  \n",
            "2         114.730  \n",
            "3          75.990  \n",
            "4          85.675  \n",
            "######\n",
            "   index  wheel-base  length  horsepower  average-mileage    price  \\\n",
            "0      0        88.6   168.8  107.844828               21  13495.0   \n",
            "1      1        88.6   168.8  107.844828               21  16500.0   \n",
            "2      2        94.5   171.2  154.000000               19  16500.0   \n",
            "3      3        99.8   176.6  107.844828               24  13950.0   \n",
            "4      4        99.4   176.6  115.000000               18  17450.0   \n",
            "\n",
            "   horsepower(kW)  \n",
            "0          82.695  \n",
            "1          82.695  \n",
            "2         114.730  \n",
            "3          75.990  \n",
            "4          85.675  \n"
          ],
          "name": "stdout"
        }
      ]
    },
    {
      "cell_type": "code",
      "metadata": {
        "id": "tWvM_KDHDFVr",
        "colab_type": "code",
        "outputId": "fb859861-feaa-451c-921e-56a8bc8940b8",
        "colab": {}
      },
      "source": [
        "#you can also use ffill which forward fills the data ie take the previous value in the columns which is not empty\n",
        "df_new4=df_new.fillna(method='ffill',inplace=True)\n",
        "df_new.head()\n",
        "#if you observe horsepower column the row with index 3 has hrose power of 154 which got replaced by using ffill which takes the previous value and fills it in.\n",
        "#PS:observe that 1st row has horsepower NaN.so even 2nd row is also unaffected."
      ],
      "execution_count": 0,
      "outputs": [
        {
          "output_type": "execute_result",
          "data": {
            "text/html": [
              "<div>\n",
              "<style scoped>\n",
              "    .dataframe tbody tr th:only-of-type {\n",
              "        vertical-align: middle;\n",
              "    }\n",
              "\n",
              "    .dataframe tbody tr th {\n",
              "        vertical-align: top;\n",
              "    }\n",
              "\n",
              "    .dataframe thead th {\n",
              "        text-align: right;\n",
              "    }\n",
              "</style>\n",
              "<table border=\"1\" class=\"dataframe\">\n",
              "  <thead>\n",
              "    <tr style=\"text-align: right;\">\n",
              "      <th></th>\n",
              "      <th>index</th>\n",
              "      <th>wheel-base</th>\n",
              "      <th>length</th>\n",
              "      <th>horsepower</th>\n",
              "      <th>average-mileage</th>\n",
              "      <th>price</th>\n",
              "      <th>horsepower(kW)</th>\n",
              "    </tr>\n",
              "  </thead>\n",
              "  <tbody>\n",
              "    <tr>\n",
              "      <th>0</th>\n",
              "      <td>0</td>\n",
              "      <td>88.6</td>\n",
              "      <td>168.8</td>\n",
              "      <td>NaN</td>\n",
              "      <td>21</td>\n",
              "      <td>13495.0</td>\n",
              "      <td>82.695</td>\n",
              "    </tr>\n",
              "    <tr>\n",
              "      <th>1</th>\n",
              "      <td>1</td>\n",
              "      <td>88.6</td>\n",
              "      <td>168.8</td>\n",
              "      <td>NaN</td>\n",
              "      <td>21</td>\n",
              "      <td>16500.0</td>\n",
              "      <td>82.695</td>\n",
              "    </tr>\n",
              "    <tr>\n",
              "      <th>2</th>\n",
              "      <td>2</td>\n",
              "      <td>94.5</td>\n",
              "      <td>171.2</td>\n",
              "      <td>154.0</td>\n",
              "      <td>19</td>\n",
              "      <td>16500.0</td>\n",
              "      <td>114.730</td>\n",
              "    </tr>\n",
              "    <tr>\n",
              "      <th>3</th>\n",
              "      <td>3</td>\n",
              "      <td>99.8</td>\n",
              "      <td>176.6</td>\n",
              "      <td>154.0</td>\n",
              "      <td>24</td>\n",
              "      <td>13950.0</td>\n",
              "      <td>75.990</td>\n",
              "    </tr>\n",
              "    <tr>\n",
              "      <th>4</th>\n",
              "      <td>4</td>\n",
              "      <td>99.4</td>\n",
              "      <td>176.6</td>\n",
              "      <td>115.0</td>\n",
              "      <td>18</td>\n",
              "      <td>17450.0</td>\n",
              "      <td>85.675</td>\n",
              "    </tr>\n",
              "  </tbody>\n",
              "</table>\n",
              "</div>"
            ],
            "text/plain": [
              "   index  wheel-base  length  horsepower  average-mileage    price  \\\n",
              "0      0        88.6   168.8         NaN               21  13495.0   \n",
              "1      1        88.6   168.8         NaN               21  16500.0   \n",
              "2      2        94.5   171.2       154.0               19  16500.0   \n",
              "3      3        99.8   176.6       154.0               24  13950.0   \n",
              "4      4        99.4   176.6       115.0               18  17450.0   \n",
              "\n",
              "   horsepower(kW)  \n",
              "0          82.695  \n",
              "1          82.695  \n",
              "2         114.730  \n",
              "3          75.990  \n",
              "4          85.675  "
            ]
          },
          "metadata": {
            "tags": []
          },
          "execution_count": 113
        }
      ]
    },
    {
      "cell_type": "code",
      "metadata": {
        "id": "2ZvZE82RDFVt",
        "colab_type": "code",
        "colab": {}
      },
      "source": [
        "df_new1=df_new1.astype(int)     #taking df_new1 as NaN are replaced with '0'\n",
        "df_new1['col_total']     = df_new1.apply(lambda x: x.sum(), axis=1)\n",
        "df_new1.loc['row_total'] = df_new1.apply(lambda x: x.sum())"
      ],
      "execution_count": 0,
      "outputs": []
    },
    {
      "cell_type": "code",
      "metadata": {
        "id": "jtpj16BkDFVw",
        "colab_type": "code",
        "outputId": "49694713-25e7-408b-c12e-24967299b2de",
        "colab": {}
      },
      "source": [
        "df_new1.head()    # we got row totals also which are not displayed here.remove head to see them."
      ],
      "execution_count": 0,
      "outputs": [
        {
          "output_type": "execute_result",
          "data": {
            "text/html": [
              "<div>\n",
              "<style scoped>\n",
              "    .dataframe tbody tr th:only-of-type {\n",
              "        vertical-align: middle;\n",
              "    }\n",
              "\n",
              "    .dataframe tbody tr th {\n",
              "        vertical-align: top;\n",
              "    }\n",
              "\n",
              "    .dataframe thead th {\n",
              "        text-align: right;\n",
              "    }\n",
              "</style>\n",
              "<table border=\"1\" class=\"dataframe\">\n",
              "  <thead>\n",
              "    <tr style=\"text-align: right;\">\n",
              "      <th></th>\n",
              "      <th>index</th>\n",
              "      <th>wheel-base</th>\n",
              "      <th>length</th>\n",
              "      <th>horsepower</th>\n",
              "      <th>average-mileage</th>\n",
              "      <th>price</th>\n",
              "      <th>horsepower(kW)</th>\n",
              "      <th>col_total</th>\n",
              "    </tr>\n",
              "  </thead>\n",
              "  <tbody>\n",
              "    <tr>\n",
              "      <th>0</th>\n",
              "      <td>0</td>\n",
              "      <td>88</td>\n",
              "      <td>168</td>\n",
              "      <td>0</td>\n",
              "      <td>21</td>\n",
              "      <td>13495</td>\n",
              "      <td>82</td>\n",
              "      <td>13854</td>\n",
              "    </tr>\n",
              "    <tr>\n",
              "      <th>1</th>\n",
              "      <td>1</td>\n",
              "      <td>88</td>\n",
              "      <td>168</td>\n",
              "      <td>0</td>\n",
              "      <td>21</td>\n",
              "      <td>16500</td>\n",
              "      <td>82</td>\n",
              "      <td>16860</td>\n",
              "    </tr>\n",
              "    <tr>\n",
              "      <th>2</th>\n",
              "      <td>2</td>\n",
              "      <td>94</td>\n",
              "      <td>171</td>\n",
              "      <td>154</td>\n",
              "      <td>19</td>\n",
              "      <td>16500</td>\n",
              "      <td>114</td>\n",
              "      <td>17054</td>\n",
              "    </tr>\n",
              "    <tr>\n",
              "      <th>3</th>\n",
              "      <td>3</td>\n",
              "      <td>99</td>\n",
              "      <td>176</td>\n",
              "      <td>0</td>\n",
              "      <td>24</td>\n",
              "      <td>13950</td>\n",
              "      <td>75</td>\n",
              "      <td>14327</td>\n",
              "    </tr>\n",
              "    <tr>\n",
              "      <th>4</th>\n",
              "      <td>4</td>\n",
              "      <td>99</td>\n",
              "      <td>176</td>\n",
              "      <td>115</td>\n",
              "      <td>18</td>\n",
              "      <td>17450</td>\n",
              "      <td>85</td>\n",
              "      <td>17947</td>\n",
              "    </tr>\n",
              "  </tbody>\n",
              "</table>\n",
              "</div>"
            ],
            "text/plain": [
              "   index  wheel-base  length  horsepower  average-mileage  price  \\\n",
              "0      0          88     168           0               21  13495   \n",
              "1      1          88     168           0               21  16500   \n",
              "2      2          94     171         154               19  16500   \n",
              "3      3          99     176           0               24  13950   \n",
              "4      4          99     176         115               18  17450   \n",
              "\n",
              "   horsepower(kW)  col_total  \n",
              "0              82      13854  \n",
              "1              82      16860  \n",
              "2             114      17054  \n",
              "3              75      14327  \n",
              "4              85      17947  "
            ]
          },
          "metadata": {
            "tags": []
          },
          "execution_count": 115
        }
      ]
    },
    {
      "cell_type": "code",
      "metadata": {
        "id": "JcFM4GSxDFVy",
        "colab_type": "code",
        "outputId": "9f44bbb2-e8de-46c2-d668-cd4bd216ce48",
        "colab": {}
      },
      "source": [
        "df_new1['horsepower'] = df_new1['horsepower'].cumsum()\n",
        "df_new1.head()"
      ],
      "execution_count": 0,
      "outputs": [
        {
          "output_type": "execute_result",
          "data": {
            "text/html": [
              "<div>\n",
              "<style scoped>\n",
              "    .dataframe tbody tr th:only-of-type {\n",
              "        vertical-align: middle;\n",
              "    }\n",
              "\n",
              "    .dataframe tbody tr th {\n",
              "        vertical-align: top;\n",
              "    }\n",
              "\n",
              "    .dataframe thead th {\n",
              "        text-align: right;\n",
              "    }\n",
              "</style>\n",
              "<table border=\"1\" class=\"dataframe\">\n",
              "  <thead>\n",
              "    <tr style=\"text-align: right;\">\n",
              "      <th></th>\n",
              "      <th>index</th>\n",
              "      <th>wheel-base</th>\n",
              "      <th>length</th>\n",
              "      <th>horsepower</th>\n",
              "      <th>average-mileage</th>\n",
              "      <th>price</th>\n",
              "      <th>horsepower(kW)</th>\n",
              "      <th>col_total</th>\n",
              "    </tr>\n",
              "  </thead>\n",
              "  <tbody>\n",
              "    <tr>\n",
              "      <th>0</th>\n",
              "      <td>0</td>\n",
              "      <td>88</td>\n",
              "      <td>168</td>\n",
              "      <td>0</td>\n",
              "      <td>21</td>\n",
              "      <td>13495</td>\n",
              "      <td>82</td>\n",
              "      <td>13854</td>\n",
              "    </tr>\n",
              "    <tr>\n",
              "      <th>1</th>\n",
              "      <td>1</td>\n",
              "      <td>88</td>\n",
              "      <td>168</td>\n",
              "      <td>0</td>\n",
              "      <td>21</td>\n",
              "      <td>16500</td>\n",
              "      <td>82</td>\n",
              "      <td>16860</td>\n",
              "    </tr>\n",
              "    <tr>\n",
              "      <th>2</th>\n",
              "      <td>2</td>\n",
              "      <td>94</td>\n",
              "      <td>171</td>\n",
              "      <td>154</td>\n",
              "      <td>19</td>\n",
              "      <td>16500</td>\n",
              "      <td>114</td>\n",
              "      <td>17054</td>\n",
              "    </tr>\n",
              "    <tr>\n",
              "      <th>3</th>\n",
              "      <td>3</td>\n",
              "      <td>99</td>\n",
              "      <td>176</td>\n",
              "      <td>154</td>\n",
              "      <td>24</td>\n",
              "      <td>13950</td>\n",
              "      <td>75</td>\n",
              "      <td>14327</td>\n",
              "    </tr>\n",
              "    <tr>\n",
              "      <th>4</th>\n",
              "      <td>4</td>\n",
              "      <td>99</td>\n",
              "      <td>176</td>\n",
              "      <td>269</td>\n",
              "      <td>18</td>\n",
              "      <td>17450</td>\n",
              "      <td>85</td>\n",
              "      <td>17947</td>\n",
              "    </tr>\n",
              "  </tbody>\n",
              "</table>\n",
              "</div>"
            ],
            "text/plain": [
              "   index  wheel-base  length  horsepower  average-mileage  price  \\\n",
              "0      0          88     168           0               21  13495   \n",
              "1      1          88     168           0               21  16500   \n",
              "2      2          94     171         154               19  16500   \n",
              "3      3          99     176         154               24  13950   \n",
              "4      4          99     176         269               18  17450   \n",
              "\n",
              "   horsepower(kW)  col_total  \n",
              "0              82      13854  \n",
              "1              82      16860  \n",
              "2             114      17054  \n",
              "3              75      14327  \n",
              "4              85      17947  "
            ]
          },
          "metadata": {
            "tags": []
          },
          "execution_count": 116
        }
      ]
    },
    {
      "cell_type": "code",
      "metadata": {
        "id": "D0GFhdv5rAPQ",
        "colab_type": "code",
        "colab": {
          "base_uri": "https://localhost:8080/",
          "height": 266
        },
        "outputId": "1b9d4235-71f3-4c4d-d0f9-86cabe969186"
      },
      "source": [
        "pivot=pd.pivot_table(df,index=[\"company\"],values=[\"price\"],aggfunc=[np.mean])\n",
        "pivot.head()\n"
      ],
      "execution_count": 52,
      "outputs": [
        {
          "output_type": "execute_result",
          "data": {
            "text/html": [
              "<div>\n",
              "<style scoped>\n",
              "    .dataframe tbody tr th:only-of-type {\n",
              "        vertical-align: middle;\n",
              "    }\n",
              "\n",
              "    .dataframe tbody tr th {\n",
              "        vertical-align: top;\n",
              "    }\n",
              "\n",
              "    .dataframe thead tr th {\n",
              "        text-align: left;\n",
              "    }\n",
              "\n",
              "    .dataframe thead tr:last-of-type th {\n",
              "        text-align: right;\n",
              "    }\n",
              "</style>\n",
              "<table border=\"1\" class=\"dataframe\">\n",
              "  <thead>\n",
              "    <tr>\n",
              "      <th></th>\n",
              "      <th>mean</th>\n",
              "    </tr>\n",
              "    <tr>\n",
              "      <th></th>\n",
              "      <th>price</th>\n",
              "    </tr>\n",
              "    <tr>\n",
              "      <th>company</th>\n",
              "      <th></th>\n",
              "    </tr>\n",
              "  </thead>\n",
              "  <tbody>\n",
              "    <tr>\n",
              "      <th>alfa-romero</th>\n",
              "      <td>15498.333333</td>\n",
              "    </tr>\n",
              "    <tr>\n",
              "      <th>audi</th>\n",
              "      <td>16392.500000</td>\n",
              "    </tr>\n",
              "    <tr>\n",
              "      <th>bmw</th>\n",
              "      <td>27213.333333</td>\n",
              "    </tr>\n",
              "    <tr>\n",
              "      <th>chevrolet</th>\n",
              "      <td>6007.000000</td>\n",
              "    </tr>\n",
              "    <tr>\n",
              "      <th>dodge</th>\n",
              "      <td>6303.000000</td>\n",
              "    </tr>\n",
              "  </tbody>\n",
              "</table>\n",
              "</div>"
            ],
            "text/plain": [
              "                     mean\n",
              "                    price\n",
              "company                  \n",
              "alfa-romero  15498.333333\n",
              "audi         16392.500000\n",
              "bmw          27213.333333\n",
              "chevrolet     6007.000000\n",
              "dodge         6303.000000"
            ]
          },
          "metadata": {
            "tags": []
          },
          "execution_count": 52
        }
      ]
    },
    {
      "cell_type": "code",
      "metadata": {
        "id": "AS3bb56Hr3WX",
        "colab_type": "code",
        "colab": {
          "base_uri": "https://localhost:8080/",
          "height": 266
        },
        "outputId": "4f365cfb-a3ef-4c27-bbb5-a235ff734a1d"
      },
      "source": [
        "pivot=pd.pivot_table(df,index=[\"company\",\"average-mileage\"],values=[\"price\"],aggfunc=[np.mean,len])\n",
        "pivot.head()"
      ],
      "execution_count": 53,
      "outputs": [
        {
          "output_type": "execute_result",
          "data": {
            "text/html": [
              "<div>\n",
              "<style scoped>\n",
              "    .dataframe tbody tr th:only-of-type {\n",
              "        vertical-align: middle;\n",
              "    }\n",
              "\n",
              "    .dataframe tbody tr th {\n",
              "        vertical-align: top;\n",
              "    }\n",
              "\n",
              "    .dataframe thead tr th {\n",
              "        text-align: left;\n",
              "    }\n",
              "\n",
              "    .dataframe thead tr:last-of-type th {\n",
              "        text-align: right;\n",
              "    }\n",
              "</style>\n",
              "<table border=\"1\" class=\"dataframe\">\n",
              "  <thead>\n",
              "    <tr>\n",
              "      <th></th>\n",
              "      <th></th>\n",
              "      <th>mean</th>\n",
              "      <th>len</th>\n",
              "    </tr>\n",
              "    <tr>\n",
              "      <th></th>\n",
              "      <th></th>\n",
              "      <th>price</th>\n",
              "      <th>price</th>\n",
              "    </tr>\n",
              "    <tr>\n",
              "      <th>company</th>\n",
              "      <th>average-mileage</th>\n",
              "      <th></th>\n",
              "      <th></th>\n",
              "    </tr>\n",
              "  </thead>\n",
              "  <tbody>\n",
              "    <tr>\n",
              "      <th rowspan=\"2\" valign=\"top\">alfa-romero</th>\n",
              "      <th>19</th>\n",
              "      <td>16500.0</td>\n",
              "      <td>1.0</td>\n",
              "    </tr>\n",
              "    <tr>\n",
              "      <th>21</th>\n",
              "      <td>14997.5</td>\n",
              "      <td>2.0</td>\n",
              "    </tr>\n",
              "    <tr>\n",
              "      <th rowspan=\"3\" valign=\"top\">audi</th>\n",
              "      <th>18</th>\n",
              "      <td>17450.0</td>\n",
              "      <td>1.0</td>\n",
              "    </tr>\n",
              "    <tr>\n",
              "      <th>19</th>\n",
              "      <td>17085.0</td>\n",
              "      <td>2.0</td>\n",
              "    </tr>\n",
              "    <tr>\n",
              "      <th>24</th>\n",
              "      <td>13950.0</td>\n",
              "      <td>1.0</td>\n",
              "    </tr>\n",
              "  </tbody>\n",
              "</table>\n",
              "</div>"
            ],
            "text/plain": [
              "                                mean   len\n",
              "                               price price\n",
              "company     average-mileage               \n",
              "alfa-romero 19               16500.0   1.0\n",
              "            21               14997.5   2.0\n",
              "audi        18               17450.0   1.0\n",
              "            19               17085.0   2.0\n",
              "            24               13950.0   1.0"
            ]
          },
          "metadata": {
            "tags": []
          },
          "execution_count": 53
        }
      ]
    },
    {
      "cell_type": "markdown",
      "metadata": {
        "id": "ksp53qs2lxH6",
        "colab_type": "text"
      },
      "source": [
        "Hurray!!That's all for Now\n",
        "\n",
        "Thankyou..\n",
        "will keep on updating.\n",
        "Connect at https://www.linkedin.com/in/nikhil-pentapalli-5744bb18b/"
      ]
    }
  ]
}